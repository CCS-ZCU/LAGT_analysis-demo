{
 "cells": [
  {
   "cell_type": "code",
   "execution_count": 1,
   "outputs": [],
   "source": [
    "import math\n",
    "import numpy as np\n",
    "import pandas as pd\n",
    "import pickle\n",
    "import nltk\n",
    "\n",
    "from sklearn.feature_extraction.text import CountVectorizer\n",
    "from sklearn.decomposition import TruncatedSVD\n",
    "from scipy import spatial\n",
    "\n",
    "from sklearn.manifold import TSNE\n",
    "from sklearn.metrics.pairwise import cosine_similarity\n",
    "from gensim import corpora"
   ],
   "metadata": {
    "collapsed": false,
    "pycharm": {
     "name": "#%%\n"
    },
    "ExecuteTime": {
     "end_time": "2023-10-23T22:23:12.319469Z",
     "start_time": "2023-10-23T22:23:11.207768Z"
    }
   }
  },
  {
   "cell_type": "code",
   "execution_count": 2,
   "outputs": [],
   "source": [
    "LAGTec = pd.read_json(\"../data/large_files/LAGTec.json\")"
   ],
   "metadata": {
    "collapsed": false,
    "pycharm": {
     "name": "#%%\n"
    },
    "ExecuteTime": {
     "end_time": "2023-10-23T22:23:13.908590Z",
     "start_time": "2023-10-23T22:23:13.148388Z"
    }
   }
  },
  {
   "cell_type": "code",
   "execution_count": 3,
   "outputs": [
    {
     "data": {
      "text/plain": "49"
     },
     "execution_count": 3,
     "metadata": {},
     "output_type": "execute_result"
    }
   ],
   "source": [
    "len(LAGTec[\"author\"].unique().tolist())"
   ],
   "metadata": {
    "collapsed": false,
    "pycharm": {
     "name": "#%%\n"
    },
    "ExecuteTime": {
     "end_time": "2023-10-23T22:23:14.440759Z",
     "start_time": "2023-10-23T22:23:14.431993Z"
    }
   }
  },
  {
   "cell_type": "code",
   "execution_count": 4,
   "outputs": [
    {
     "data": {
      "text/plain": "148"
     },
     "execution_count": 4,
     "metadata": {},
     "output_type": "execute_result"
    }
   ],
   "source": [
    "len(LAGTec)"
   ],
   "metadata": {
    "collapsed": false,
    "pycharm": {
     "name": "#%%\n"
    },
    "ExecuteTime": {
     "end_time": "2023-10-23T22:23:15.360167Z",
     "start_time": "2023-10-23T22:23:15.346291Z"
    }
   }
  },
  {
   "cell_type": "code",
   "execution_count": 5,
   "outputs": [
    {
     "data": {
      "text/plain": "3566823"
     },
     "execution_count": 5,
     "metadata": {},
     "output_type": "execute_result"
    }
   ],
   "source": [
    "LAGTec[\"wordcount\"].sum()"
   ],
   "metadata": {
    "collapsed": false,
    "pycharm": {
     "name": "#%%\n"
    },
    "ExecuteTime": {
     "end_time": "2023-10-23T22:23:15.771965Z",
     "start_time": "2023-10-23T22:23:15.769837Z"
    }
   }
  },
  {
   "cell_type": "code",
   "execution_count": 6,
   "outputs": [
    {
     "data": {
      "text/plain": "1510554"
     },
     "execution_count": 6,
     "metadata": {},
     "output_type": "execute_result"
    }
   ],
   "source": [
    "LAGTec[\"lemmatized_sentences\"].apply(lambda x: len([w for s in x for w in s])).sum()"
   ],
   "metadata": {
    "collapsed": false,
    "pycharm": {
     "name": "#%%\n"
    },
    "ExecuteTime": {
     "end_time": "2023-10-23T22:23:20.666576Z",
     "start_time": "2023-10-23T22:23:20.663184Z"
    }
   }
  },
  {
   "cell_type": "code",
   "execution_count": 7,
   "outputs": [
    {
     "data": {
      "text/plain": "   date_avr  authors_N  wordcount  n_sentences  paul_N  paul_freq  \\\n0       0.5         13     151723        10108     160   0.001055   \n1       1.5         13     322401        41076      18   0.000056   \n2       2.5          4    1237867       129474     497   0.000401   \n3       3.5          9    1347705       117599     213   0.000158   \n4       4.5         10     507127        45061     184   0.000363   \n\n   sentences_paul_N  sentences_apostle_N  \n0               156                   84  \n1                18                   92  \n2               485                  654  \n3               205                  690  \n4               181                  146  ",
      "text/html": "<div>\n<style scoped>\n    .dataframe tbody tr th:only-of-type {\n        vertical-align: middle;\n    }\n\n    .dataframe tbody tr th {\n        vertical-align: top;\n    }\n\n    .dataframe thead th {\n        text-align: right;\n    }\n</style>\n<table border=\"1\" class=\"dataframe\">\n  <thead>\n    <tr style=\"text-align: right;\">\n      <th></th>\n      <th>date_avr</th>\n      <th>authors_N</th>\n      <th>wordcount</th>\n      <th>n_sentences</th>\n      <th>paul_N</th>\n      <th>paul_freq</th>\n      <th>sentences_paul_N</th>\n      <th>sentences_apostle_N</th>\n    </tr>\n  </thead>\n  <tbody>\n    <tr>\n      <th>0</th>\n      <td>0.5</td>\n      <td>13</td>\n      <td>151723</td>\n      <td>10108</td>\n      <td>160</td>\n      <td>0.001055</td>\n      <td>156</td>\n      <td>84</td>\n    </tr>\n    <tr>\n      <th>1</th>\n      <td>1.5</td>\n      <td>13</td>\n      <td>322401</td>\n      <td>41076</td>\n      <td>18</td>\n      <td>0.000056</td>\n      <td>18</td>\n      <td>92</td>\n    </tr>\n    <tr>\n      <th>2</th>\n      <td>2.5</td>\n      <td>4</td>\n      <td>1237867</td>\n      <td>129474</td>\n      <td>497</td>\n      <td>0.000401</td>\n      <td>485</td>\n      <td>654</td>\n    </tr>\n    <tr>\n      <th>3</th>\n      <td>3.5</td>\n      <td>9</td>\n      <td>1347705</td>\n      <td>117599</td>\n      <td>213</td>\n      <td>0.000158</td>\n      <td>205</td>\n      <td>690</td>\n    </tr>\n    <tr>\n      <th>4</th>\n      <td>4.5</td>\n      <td>10</td>\n      <td>507127</td>\n      <td>45061</td>\n      <td>184</td>\n      <td>0.000363</td>\n      <td>181</td>\n      <td>146</td>\n    </tr>\n  </tbody>\n</table>\n</div>"
     },
     "execution_count": 7,
     "metadata": {},
     "output_type": "execute_result"
    }
   ],
   "source": [
    "LAGTec_by_date = pd.DataFrame(LAGTec.groupby(\"date_avr\").sum(numeric_only=True))\n",
    "LAGTec_by_date.reset_index(inplace=True)\n",
    "\n",
    "LAGTec_by_date[\"authors_N\"] = LAGTec_by_date[\"date_avr\"].apply(lambda x: len(LAGTec[LAGTec[\"date_avr\"]==x][\"author\"].unique()))\n",
    "\n",
    "LAGTec_by_date[\"works_N\"] = LAGTec_by_date[\"date_avr\"].apply(lambda x: (LAGTec[\"date_avr\"]==x).sum())\n",
    "\n",
    "LAGTec_by_date[\"paul_freq\"] = LAGTec_by_date[\"paul_N\"] / LAGTec_by_date[\"wordcount\"]\n",
    "\n",
    "LAGTec_by_date[[\"date_avr\", \"authors_N\", \"wordcount\", \"n_sentences\", \"paul_N\", \"paul_freq\", \"sentences_paul_N\", \"sentences_apostle_N\"]]"
   ],
   "metadata": {
    "collapsed": false,
    "pycharm": {
     "name": "#%%\n"
    },
    "ExecuteTime": {
     "end_time": "2023-10-23T22:23:54.497523Z",
     "start_time": "2023-10-23T22:23:54.487252Z"
    }
   }
  },
  {
   "cell_type": "code",
   "execution_count": 8,
   "outputs": [],
   "source": [
    "sents_1to3 = [sen for work in LAGTec[LAGTec[\"date_avr\"]<3][\"lemmatized_sentences\"] for sen in work]\n",
    "sents_4to5 = [sen for work in LAGTec[LAGTec[\"date_avr\"]>3][\"lemmatized_sentences\"] for sen in work]"
   ],
   "metadata": {
    "collapsed": false,
    "pycharm": {
     "name": "#%%\n"
    },
    "ExecuteTime": {
     "end_time": "2023-10-23T22:24:01.293991Z",
     "start_time": "2023-10-23T22:24:01.282896Z"
    }
   }
  },
  {
   "cell_type": "code",
   "execution_count": 9,
   "outputs": [
    {
     "data": {
      "text/plain": "99910"
     },
     "execution_count": 9,
     "metadata": {},
     "output_type": "execute_result"
    }
   ],
   "source": [
    "len(sents_1to3)"
   ],
   "metadata": {
    "collapsed": false,
    "pycharm": {
     "name": "#%%\n"
    },
    "ExecuteTime": {
     "end_time": "2023-10-23T22:24:02.832233Z",
     "start_time": "2023-10-23T22:24:02.817684Z"
    }
   }
  },
  {
   "cell_type": "code",
   "execution_count": 10,
   "outputs": [
    {
     "name": "stdout",
     "output_type": "stream",
     "text": [
      "[['βίβλος', 'γένεσις', 'Ἰησοῦς', 'Χριστός', 'υἱός', 'Δαυίδ', 'υἱός', 'Ἀβραάμ'], ['Ἀβραάμ', 'γεννάω', 'Ἰσαάκ', 'Ἰσαάκ', 'γεννάω', 'Ἰακώβ', 'Ἰακώβ', 'γεννάω', 'Ἰούδας', 'ἀδελφός', 'Ἰούδας', 'γεννάω', 'Φάρες', 'Ζάρα', 'Θαμάρ', 'Φάρες', 'γεννάω', 'Ἑσρώμ', 'Ἑσρώμ', 'γεννάω', 'Ἀράμ', 'Ἀράμ', 'γεννάω', 'Ἀμιναδάβ', 'Ἀμιναδάβ', 'γεννάω', 'Ναασσών', 'Ναασσών', 'γεννάω', 'Σαλμών', 'Σαλμών', 'γεννάω', 'βοῦς', 'Ῥαχάβ', 'βοῦς', 'γεννάω', 'Ἰωβήδ', 'Ῥούθ', 'Ἰωβήδ', 'γεννάω', 'Ἰεσσαί', 'Ἰεσσαί', 'γεννάω', 'Δαυίδ', 'βασιλεύς'], ['Δαυίδ', 'γεννάω', 'Σολομών', 'Οὐρίας', 'Σολομών', 'γεννάω', 'Ῥοβοάμ', 'Ῥοβοάμ', 'γεννάω', 'Ἀβιά', 'Ἀβιά', 'γεννάω', 'Ἀσάφ', 'Ἀσάφ', 'γεννάω', 'Ἰωσαφάτ', 'Ἰωσαφάτ', 'γεννάω', 'Ἰωράμ', 'Ἰωράμ', 'γεννάω', 'Ὀζίας', 'Ὀζίας', 'γεννάω', 'Ἰωαθάμ', 'Ἰωαθάμ', 'γεννάω', 'ἄχας', 'ἄχας', 'γεννάω', 'Ἑζεκίας', 'Ἑζεκίας', 'γεννάω', 'Μανασσῆς', 'Μανασσῆς', 'γεννάω', 'Ἀμώς', 'Ἀμώς', 'γεννάω', 'Ἰωσίας', 'Ἰωσίας', 'γεννάω', 'Ἰεχονίας', 'ἀδελφός', 'μετοικεσία', 'Βαβυλών']]\n"
     ]
    }
   ],
   "source": [
    "print(sents_1to3[:3])"
   ],
   "metadata": {
    "collapsed": false,
    "pycharm": {
     "name": "#%%\n"
    },
    "ExecuteTime": {
     "end_time": "2023-10-23T22:24:04.570420Z",
     "start_time": "2023-10-23T22:24:04.557406Z"
    }
   }
  },
  {
   "cell_type": "code",
   "execution_count": 11,
   "outputs": [],
   "source": [
    "min_freq = 5\n",
    "\n",
    "def get_vocab(docs, min_freq=5):\n",
    "    words_flat = [item for sublist in docs for item in sublist]\n",
    "    word_freq_tups = nltk.FreqDist(words_flat).most_common()\n",
    "    vocabulary = [tup[0] for tup in word_freq_tups if tup[1] >= min_freq]\n",
    "    #vocab_freqs = [len([doc for doc in docs if word in doc]) for word in vocabulary]\n",
    "    return words_flat, vocabulary # , vocab_freqs"
   ],
   "metadata": {
    "collapsed": false,
    "pycharm": {
     "name": "#%%\n"
    },
    "ExecuteTime": {
     "end_time": "2023-10-23T22:24:10.299559Z",
     "start_time": "2023-10-23T22:24:10.289408Z"
    }
   }
  },
  {
   "cell_type": "code",
   "execution_count": 12,
   "outputs": [],
   "source": [
    "words_flat_1to3, vocabulary_1to3 = get_vocab(sents_1to3)\n",
    "words_flat_4to5, vocabulary_4to5 = get_vocab(sents_4to5)"
   ],
   "metadata": {
    "collapsed": false,
    "pycharm": {
     "name": "#%%\n"
    },
    "ExecuteTime": {
     "end_time": "2023-10-23T22:24:15.370954Z",
     "start_time": "2023-10-23T22:24:14.829338Z"
    }
   }
  },
  {
   "cell_type": "code",
   "execution_count": 13,
   "outputs": [
    {
     "name": "stdout",
     "output_type": "stream",
     "text": [
      "True\n",
      "True\n",
      "True\n",
      "True\n"
     ]
    }
   ],
   "source": [
    "print(\"Παῦλος\" in vocabulary_1to3)\n",
    "print(\"Παῦλος\" in vocabulary_4to5)\n",
    "print(\"ἀπόστολος\" in vocabulary_1to3)\n",
    "print(\"ἀπόστολος\" in vocabulary_4to5)"
   ],
   "metadata": {
    "collapsed": false,
    "pycharm": {
     "name": "#%%\n"
    },
    "ExecuteTime": {
     "end_time": "2023-10-23T22:24:16.971634Z",
     "start_time": "2023-10-23T22:24:16.957511Z"
    }
   }
  },
  {
   "cell_type": "code",
   "execution_count": 14,
   "outputs": [
    {
     "data": {
      "text/plain": "['ὄμμα',\n 'μένω',\n 'ἀπειλή',\n 'σκώληξ',\n 'σῶμα',\n 'ἀπουσία',\n 'ἐπιστρεφόμενον',\n 'ἐκβράσαν',\n 'σῶμα',\n 'ἐπιστρεφής',\n 'οὗτος',\n 'ἐκφεύγω',\n 'θεός',\n 'εἰμί',\n 'διδαχθείς',\n 'ἔχω',\n 'ἀθάνατος',\n 'σῶμα',\n 'ἄφθαρτ',\n 'ψυχή',\n 'βασιλεία',\n 'οὐρανός',\n 'ἀπόληψις',\n 'γῆ',\n 'βίος',\n 'ἐπουράνιος',\n 'βασιλεύς',\n 'ἐπιγνούς',\n 'εἰμί',\n 'ὁμιλητής',\n 'θεός',\n 'συγκληρονόμος',\n 'Χριστός',\n 'ἐπιθυμία',\n 'πάθος',\n 'νόσος',\n 'δουλούμενος',\n 'γίγνομαι',\n 'θεός',\n 'ὑπομένω',\n 'πάθος',\n 'ἄνθρωπος',\n 'εἰμί',\n 'δίδωμι',\n 'ἄνθρωπος',\n 'εἷς',\n 'ὅσος',\n 'παρακολουθέω',\n 'θεός',\n 'παρέχω',\n 'ἐπαγγέλλομαι',\n 'θεός',\n 'ἐθεοποιήθης',\n 'ἀθάνατος',\n 'γεννηθείς',\n 'τουτέστι',\n 'γιγνώσκω',\n 'ἐπιγιγνώσκω',\n 'πεποιηκότα',\n 'θεός',\n 'ἐπιγιγνώσκω',\n 'ἐπιγνωσθῆναι',\n 'συμβαίνω',\n 'καλουμένῳ',\n 'φιλεχθρήσητε',\n 'ἄνθρωπος',\n 'παλινδρομεῖν',\n 'διστάσητε',\n 'Χριστός',\n 'πᾶς',\n 'θεός',\n 'ἁμαρτία',\n 'ἄνθρωπος',\n 'ἀποπλύνω',\n 'προστάσσω',\n 'νέος',\n 'παλαιός',\n 'ἄνθρωπος',\n 'ἀποτελῶν',\n 'εἰκών',\n 'καλέω',\n 'ἀρχή',\n 'τύπος',\n 'ἐπιδεικνύμενος',\n 'στοργή',\n 'πρόσταγμα',\n 'ὑπακούω',\n 'σεμνός',\n 'ἀγαθός',\n 'ἀγαθός',\n 'γίγνομαι',\n 'μιμητής',\n 'εἰμί',\n 'ὅμοιος',\n 'τιμηθείς',\n 'πτωχεύει',\n 'θεός',\n 'θεός',\n 'ποιέω',\n 'δόξα']"
     },
     "execution_count": 14,
     "metadata": {},
     "output_type": "execute_result"
    }
   ],
   "source": [
    "words_flat_1to3[-100:]"
   ],
   "metadata": {
    "collapsed": false,
    "pycharm": {
     "name": "#%%\n"
    },
    "ExecuteTime": {
     "end_time": "2023-10-23T22:24:26.467296Z",
     "start_time": "2023-10-23T22:24:26.457126Z"
    }
   }
  },
  {
   "cell_type": "code",
   "execution_count": 15,
   "outputs": [
    {
     "name": "stdout",
     "output_type": "stream",
     "text": [
      "705831\n",
      "804723\n"
     ]
    }
   ],
   "source": [
    "print(len(words_flat_1to3))\n",
    "print(len(words_flat_4to5))"
   ],
   "metadata": {
    "collapsed": false,
    "pycharm": {
     "name": "#%%\n"
    },
    "ExecuteTime": {
     "end_time": "2023-10-23T22:24:29.209220Z",
     "start_time": "2023-10-23T22:24:29.195374Z"
    }
   }
  },
  {
   "cell_type": "code",
   "execution_count": 16,
   "outputs": [],
   "source": [
    "# continuous bigrams & trigrams, crossing sentence divisions\n",
    "bigrams_1to3 = [list(ngram) for ngram in nltk.bigrams(words_flat_1to3)]\n",
    "bigrams_4to5 = [list(ngram) for ngram in nltk.bigrams(words_flat_4to5)]\n",
    "\n",
    "trigrams_1to3 = [list(ngram) for ngram in nltk.trigrams(words_flat_1to3)]\n",
    "trigrams_4to5 = [list(ngram) for ngram in nltk.trigrams(words_flat_4to5)]"
   ],
   "metadata": {
    "collapsed": false,
    "pycharm": {
     "name": "#%%\n"
    },
    "ExecuteTime": {
     "end_time": "2023-10-23T22:24:38.559960Z",
     "start_time": "2023-10-23T22:24:37.366688Z"
    }
   }
  },
  {
   "cell_type": "code",
   "execution_count": 17,
   "outputs": [],
   "source": [
    "# continuous bigrams & trigrams, within sentences only\n",
    "\n",
    "sents_bigrams_1to3 = [list(el) for sublist in [[ng for ng in nltk.bigrams(sent)] for sent in sents_1to3] for el in sublist]\n",
    "sents_bigrams_4to5 = [list(el) for sublist in [[ng for ng in nltk.bigrams(sent)] for sent in sents_4to5] for el in sublist]\n",
    "\n",
    "sents_trigrams_1to3 = [list(el) for sublist in [[ng for ng in nltk.trigrams(sent)] for sent in sents_1to3] for el in sublist]\n",
    "sents_trigrams_4to5 = [list(el) for sublist in [[ng for ng in nltk.trigrams(sent)] for sent in sents_4to5] for el in sublist]"
   ],
   "metadata": {
    "collapsed": false,
    "pycharm": {
     "name": "#%%\n"
    },
    "ExecuteTime": {
     "end_time": "2023-10-23T22:24:41.625596Z",
     "start_time": "2023-10-23T22:24:40.153284Z"
    }
   }
  },
  {
   "cell_type": "code",
   "execution_count": 18,
   "outputs": [],
   "source": [
    "def get_cooc(docs, vocabulary=None, min_freq=5):\n",
    "    if vocabulary==None:\n",
    "        lemmata, vocabulary = get_vocab(docs, min_freq)\n",
    "    vec_bow = CountVectorizer(vocabulary=vocabulary, lowercase=False)\n",
    "    bow = vec_bow.fit_transform([\" \".join(list(set(sentence))) for sentence in docs])\n",
    "    cooc  = bow.T * bow\n",
    "    cooc = cooc / len(docs)\n",
    "    return cooc, vocabulary"
   ],
   "metadata": {
    "collapsed": false,
    "pycharm": {
     "name": "#%%\n"
    },
    "ExecuteTime": {
     "end_time": "2023-10-23T22:24:54.842291Z",
     "start_time": "2023-10-23T22:24:54.829031Z"
    }
   }
  },
  {
   "cell_type": "code",
   "execution_count": 19,
   "outputs": [],
   "source": [
    "cooc_1to3, vocabulary_1to3 = get_cooc(sents_1to3 + sents_bigrams_1to3 + sents_trigrams_1to3, vocabulary=vocabulary_1to3[:2000])\n",
    "cooc_4to5, vocabulary_4to5 = get_cooc(sents_4to5 + sents_bigrams_4to5 + sents_trigrams_4to5, vocabulary=vocabulary_4to5[:2000])"
   ],
   "metadata": {
    "collapsed": false,
    "pycharm": {
     "name": "#%%\n"
    },
    "ExecuteTime": {
     "end_time": "2023-10-23T22:25:11.655337Z",
     "start_time": "2023-10-23T22:25:06.108961Z"
    }
   }
  },
  {
   "cell_type": "code",
   "execution_count": 20,
   "outputs": [
    {
     "data": {
      "text/plain": "(2000, 2000)"
     },
     "execution_count": 20,
     "metadata": {},
     "output_type": "execute_result"
    }
   ],
   "source": [
    "cooc_4to5.todense().shape"
   ],
   "metadata": {
    "collapsed": false,
    "pycharm": {
     "name": "#%%\n"
    },
    "ExecuteTime": {
     "end_time": "2023-10-23T22:25:11.663348Z",
     "start_time": "2023-10-23T22:25:11.656386Z"
    }
   }
  },
  {
   "cell_type": "code",
   "execution_count": 21,
   "outputs": [
    {
     "data": {
      "text/plain": "          0         1         2         3         4         5         6     \\\n0     0.054007  0.002586  0.003069  0.003025  0.002132  0.001373  0.001859   \n1     0.002586  0.039271  0.002352  0.001551  0.001248  0.001547  0.001249   \n2     0.003069  0.002352  0.037310  0.002056  0.001392  0.001159  0.001154   \n3     0.003025  0.001551  0.002056  0.037387  0.001209  0.001093  0.001558   \n4     0.002132  0.001248  0.001392  0.001209  0.028849  0.000981  0.000933   \n...        ...       ...       ...       ...       ...       ...       ...   \n1995  0.000009  0.000001  0.000001  0.000005  0.000004  0.000008  0.000004   \n1996  0.000003  0.000006  0.000003  0.000002  0.000000  0.000002  0.000009   \n1997  0.000006  0.000021  0.000006  0.000013  0.000011  0.000007  0.000008   \n1998  0.000008  0.000008  0.000004  0.000004  0.000003  0.000006  0.000000   \n1999  0.000011  0.000004  0.000001  0.000008  0.000004  0.000007  0.000008   \n\n              7         8         9     ...      1990      1991      1992  \\\n0     2.029446e-03  0.000890  0.001061  ...  0.000008  0.000007  0.000009   \n1     1.077021e-03  0.001188  0.001053  ...  0.000005  0.000010  0.000008   \n2     1.007331e-03  0.000898  0.000682  ...  0.000002  0.000004  0.000006   \n3     2.158970e-03  0.000678  0.000558  ...  0.000000  0.000007  0.000006   \n4     8.728798e-04  0.000747  0.000546  ...  0.000006  0.000005  0.000004   \n...            ...       ...       ...  ...       ...       ...       ...   \n1995  2.111806e-06  0.000004  0.000001  ...  0.000000  0.000000  0.000001   \n1996  7.039354e-07  0.000004  0.000002  ...  0.000000  0.000000  0.000001   \n1997  3.519677e-06  0.000004  0.000006  ...  0.000000  0.000000  0.000000   \n1998  2.815741e-06  0.000006  0.000006  ...  0.000000  0.000000  0.000000   \n1999  7.039354e-06  0.000004  0.000000  ...  0.000000  0.000000  0.000000   \n\n          1993      1994      1995      1996      1997      1998      1999  \n0     0.000006  0.000008  0.000009  0.000003  0.000006  0.000008  0.000011  \n1     0.000006  0.000004  0.000001  0.000006  0.000021  0.000008  0.000004  \n2     0.000006  0.000012  0.000001  0.000003  0.000006  0.000004  0.000001  \n3     0.000004  0.000006  0.000005  0.000002  0.000013  0.000004  0.000008  \n4     0.000004  0.000011  0.000004  0.000000  0.000011  0.000003  0.000004  \n...        ...       ...       ...       ...       ...       ...       ...  \n1995  0.000000  0.000000  0.000180  0.000000  0.000000  0.000000  0.000000  \n1996  0.000000  0.000000  0.000000  0.000182  0.000000  0.000000  0.000000  \n1997  0.000000  0.000000  0.000000  0.000000  0.000187  0.000000  0.000000  \n1998  0.000000  0.000000  0.000000  0.000000  0.000000  0.000179  0.000000  \n1999  0.000000  0.000000  0.000000  0.000000  0.000000  0.000000  0.000141  \n\n[2000 rows x 2000 columns]",
      "text/html": "<div>\n<style scoped>\n    .dataframe tbody tr th:only-of-type {\n        vertical-align: middle;\n    }\n\n    .dataframe tbody tr th {\n        vertical-align: top;\n    }\n\n    .dataframe thead th {\n        text-align: right;\n    }\n</style>\n<table border=\"1\" class=\"dataframe\">\n  <thead>\n    <tr style=\"text-align: right;\">\n      <th></th>\n      <th>0</th>\n      <th>1</th>\n      <th>2</th>\n      <th>3</th>\n      <th>4</th>\n      <th>5</th>\n      <th>6</th>\n      <th>7</th>\n      <th>8</th>\n      <th>9</th>\n      <th>...</th>\n      <th>1990</th>\n      <th>1991</th>\n      <th>1992</th>\n      <th>1993</th>\n      <th>1994</th>\n      <th>1995</th>\n      <th>1996</th>\n      <th>1997</th>\n      <th>1998</th>\n      <th>1999</th>\n    </tr>\n  </thead>\n  <tbody>\n    <tr>\n      <th>0</th>\n      <td>0.054007</td>\n      <td>0.002586</td>\n      <td>0.003069</td>\n      <td>0.003025</td>\n      <td>0.002132</td>\n      <td>0.001373</td>\n      <td>0.001859</td>\n      <td>2.029446e-03</td>\n      <td>0.000890</td>\n      <td>0.001061</td>\n      <td>...</td>\n      <td>0.000008</td>\n      <td>0.000007</td>\n      <td>0.000009</td>\n      <td>0.000006</td>\n      <td>0.000008</td>\n      <td>0.000009</td>\n      <td>0.000003</td>\n      <td>0.000006</td>\n      <td>0.000008</td>\n      <td>0.000011</td>\n    </tr>\n    <tr>\n      <th>1</th>\n      <td>0.002586</td>\n      <td>0.039271</td>\n      <td>0.002352</td>\n      <td>0.001551</td>\n      <td>0.001248</td>\n      <td>0.001547</td>\n      <td>0.001249</td>\n      <td>1.077021e-03</td>\n      <td>0.001188</td>\n      <td>0.001053</td>\n      <td>...</td>\n      <td>0.000005</td>\n      <td>0.000010</td>\n      <td>0.000008</td>\n      <td>0.000006</td>\n      <td>0.000004</td>\n      <td>0.000001</td>\n      <td>0.000006</td>\n      <td>0.000021</td>\n      <td>0.000008</td>\n      <td>0.000004</td>\n    </tr>\n    <tr>\n      <th>2</th>\n      <td>0.003069</td>\n      <td>0.002352</td>\n      <td>0.037310</td>\n      <td>0.002056</td>\n      <td>0.001392</td>\n      <td>0.001159</td>\n      <td>0.001154</td>\n      <td>1.007331e-03</td>\n      <td>0.000898</td>\n      <td>0.000682</td>\n      <td>...</td>\n      <td>0.000002</td>\n      <td>0.000004</td>\n      <td>0.000006</td>\n      <td>0.000006</td>\n      <td>0.000012</td>\n      <td>0.000001</td>\n      <td>0.000003</td>\n      <td>0.000006</td>\n      <td>0.000004</td>\n      <td>0.000001</td>\n    </tr>\n    <tr>\n      <th>3</th>\n      <td>0.003025</td>\n      <td>0.001551</td>\n      <td>0.002056</td>\n      <td>0.037387</td>\n      <td>0.001209</td>\n      <td>0.001093</td>\n      <td>0.001558</td>\n      <td>2.158970e-03</td>\n      <td>0.000678</td>\n      <td>0.000558</td>\n      <td>...</td>\n      <td>0.000000</td>\n      <td>0.000007</td>\n      <td>0.000006</td>\n      <td>0.000004</td>\n      <td>0.000006</td>\n      <td>0.000005</td>\n      <td>0.000002</td>\n      <td>0.000013</td>\n      <td>0.000004</td>\n      <td>0.000008</td>\n    </tr>\n    <tr>\n      <th>4</th>\n      <td>0.002132</td>\n      <td>0.001248</td>\n      <td>0.001392</td>\n      <td>0.001209</td>\n      <td>0.028849</td>\n      <td>0.000981</td>\n      <td>0.000933</td>\n      <td>8.728798e-04</td>\n      <td>0.000747</td>\n      <td>0.000546</td>\n      <td>...</td>\n      <td>0.000006</td>\n      <td>0.000005</td>\n      <td>0.000004</td>\n      <td>0.000004</td>\n      <td>0.000011</td>\n      <td>0.000004</td>\n      <td>0.000000</td>\n      <td>0.000011</td>\n      <td>0.000003</td>\n      <td>0.000004</td>\n    </tr>\n    <tr>\n      <th>...</th>\n      <td>...</td>\n      <td>...</td>\n      <td>...</td>\n      <td>...</td>\n      <td>...</td>\n      <td>...</td>\n      <td>...</td>\n      <td>...</td>\n      <td>...</td>\n      <td>...</td>\n      <td>...</td>\n      <td>...</td>\n      <td>...</td>\n      <td>...</td>\n      <td>...</td>\n      <td>...</td>\n      <td>...</td>\n      <td>...</td>\n      <td>...</td>\n      <td>...</td>\n      <td>...</td>\n    </tr>\n    <tr>\n      <th>1995</th>\n      <td>0.000009</td>\n      <td>0.000001</td>\n      <td>0.000001</td>\n      <td>0.000005</td>\n      <td>0.000004</td>\n      <td>0.000008</td>\n      <td>0.000004</td>\n      <td>2.111806e-06</td>\n      <td>0.000004</td>\n      <td>0.000001</td>\n      <td>...</td>\n      <td>0.000000</td>\n      <td>0.000000</td>\n      <td>0.000001</td>\n      <td>0.000000</td>\n      <td>0.000000</td>\n      <td>0.000180</td>\n      <td>0.000000</td>\n      <td>0.000000</td>\n      <td>0.000000</td>\n      <td>0.000000</td>\n    </tr>\n    <tr>\n      <th>1996</th>\n      <td>0.000003</td>\n      <td>0.000006</td>\n      <td>0.000003</td>\n      <td>0.000002</td>\n      <td>0.000000</td>\n      <td>0.000002</td>\n      <td>0.000009</td>\n      <td>7.039354e-07</td>\n      <td>0.000004</td>\n      <td>0.000002</td>\n      <td>...</td>\n      <td>0.000000</td>\n      <td>0.000000</td>\n      <td>0.000001</td>\n      <td>0.000000</td>\n      <td>0.000000</td>\n      <td>0.000000</td>\n      <td>0.000182</td>\n      <td>0.000000</td>\n      <td>0.000000</td>\n      <td>0.000000</td>\n    </tr>\n    <tr>\n      <th>1997</th>\n      <td>0.000006</td>\n      <td>0.000021</td>\n      <td>0.000006</td>\n      <td>0.000013</td>\n      <td>0.000011</td>\n      <td>0.000007</td>\n      <td>0.000008</td>\n      <td>3.519677e-06</td>\n      <td>0.000004</td>\n      <td>0.000006</td>\n      <td>...</td>\n      <td>0.000000</td>\n      <td>0.000000</td>\n      <td>0.000000</td>\n      <td>0.000000</td>\n      <td>0.000000</td>\n      <td>0.000000</td>\n      <td>0.000000</td>\n      <td>0.000187</td>\n      <td>0.000000</td>\n      <td>0.000000</td>\n    </tr>\n    <tr>\n      <th>1998</th>\n      <td>0.000008</td>\n      <td>0.000008</td>\n      <td>0.000004</td>\n      <td>0.000004</td>\n      <td>0.000003</td>\n      <td>0.000006</td>\n      <td>0.000000</td>\n      <td>2.815741e-06</td>\n      <td>0.000006</td>\n      <td>0.000006</td>\n      <td>...</td>\n      <td>0.000000</td>\n      <td>0.000000</td>\n      <td>0.000000</td>\n      <td>0.000000</td>\n      <td>0.000000</td>\n      <td>0.000000</td>\n      <td>0.000000</td>\n      <td>0.000000</td>\n      <td>0.000179</td>\n      <td>0.000000</td>\n    </tr>\n    <tr>\n      <th>1999</th>\n      <td>0.000011</td>\n      <td>0.000004</td>\n      <td>0.000001</td>\n      <td>0.000008</td>\n      <td>0.000004</td>\n      <td>0.000007</td>\n      <td>0.000008</td>\n      <td>7.039354e-06</td>\n      <td>0.000004</td>\n      <td>0.000000</td>\n      <td>...</td>\n      <td>0.000000</td>\n      <td>0.000000</td>\n      <td>0.000000</td>\n      <td>0.000000</td>\n      <td>0.000000</td>\n      <td>0.000000</td>\n      <td>0.000000</td>\n      <td>0.000000</td>\n      <td>0.000000</td>\n      <td>0.000141</td>\n    </tr>\n  </tbody>\n</table>\n<p>2000 rows × 2000 columns</p>\n</div>"
     },
     "execution_count": 21,
     "metadata": {},
     "output_type": "execute_result"
    }
   ],
   "source": [
    "pd.DataFrame(cooc_4to5.todense())"
   ],
   "metadata": {
    "collapsed": false,
    "pycharm": {
     "name": "#%%\n"
    },
    "ExecuteTime": {
     "end_time": "2023-10-23T22:25:12.551153Z",
     "start_time": "2023-10-23T22:25:12.520644Z"
    }
   }
  },
  {
   "cell_type": "code",
   "execution_count": 22,
   "outputs": [],
   "source": [
    "def normalize_ppmi3_matrix(pmi_matrix_df):\n",
    "    minval, maxval = pmi_matrix_df.min().min(), pmi_matrix_df.max().max()\n",
    "    diff = abs(maxval-minval)\n",
    "    minval_doubled = minval - diff\n",
    "    pmi_matrix_df.fillna(minval_doubled, inplace=True)\n",
    "    pmi_matrix_norm_df = (pmi_matrix_df - minval_doubled) / (maxval - minval_doubled)\n",
    "    return pmi_matrix_norm_df"
   ],
   "metadata": {
    "collapsed": false,
    "pycharm": {
     "name": "#%%\n"
    },
    "ExecuteTime": {
     "end_time": "2023-10-23T22:25:24.563669Z",
     "start_time": "2023-10-23T22:25:24.540628Z"
    }
   }
  },
  {
   "cell_type": "code",
   "execution_count": 23,
   "outputs": [],
   "source": [
    "def get_ppmi_df(cooc, vocabulary, normalize=True, exp=2):\n",
    "    pmi_rows_list = []\n",
    "    for i in range(cooc.shape[1]):\n",
    "        ab = np.array([row_el for row_el in list(cooc[i].toarray()[0])], dtype=float)\n",
    "        ab_exp = np.power(ab, exp)\n",
    "        axb = np.array([cooc[row_el[0], row_el[0]] * cooc[i, i] for row_el in enumerate(list(cooc[i].toarray()[0]))], dtype=float)\n",
    "        pmi_row = np.divide(ab_exp, axb, out=np.zeros_like(ab_exp), where=axb!=0)\n",
    "        pmi_row = [np.log(n) if n>0 else None for n in pmi_row]\n",
    "        pmi_rows_list.append(pmi_row)\n",
    "    pmi_matrix_df = pd.DataFrame(pmi_rows_list, columns=vocabulary, index=vocabulary)\n",
    "    if normalize == True:\n",
    "        pmi_matrix_df = normalize_ppmi3_matrix(pmi_matrix_df)\n",
    "        np.fill_diagonal(pmi_matrix_df.to_numpy(), 1)\n",
    "    return pmi_matrix_df #pmi_matrix_norm_df"
   ],
   "metadata": {
    "collapsed": false,
    "pycharm": {
     "name": "#%%\n"
    },
    "ExecuteTime": {
     "end_time": "2023-10-23T22:25:24.943838Z",
     "start_time": "2023-10-23T22:25:24.940045Z"
    }
   }
  },
  {
   "cell_type": "code",
   "execution_count": 24,
   "outputs": [
    {
     "data": {
      "text/plain": "                  εἰμί      λέγω      θεός     οὗτος     αὐτός       πᾶς  \\\nεἰμί          1.000000  0.844593  0.858682  0.851344  0.847851  0.833992   \nλέγω          0.844593  1.000000  0.836977  0.857170  0.834168  0.814340   \nθεός          0.858682  0.836977  1.000000  0.822810  0.828806  0.834268   \nοὗτος         0.851344  0.857170  0.822810  1.000000  0.823465  0.816076   \nαὐτός         0.847851  0.834168  0.828806  0.823465  1.000000  0.819105   \n...                ...       ...       ...       ...       ...       ...   \nἨσαῦ          0.640500  0.673392  0.638649  0.669871  0.644926  0.554092   \nἀγός          0.000000  0.721751  0.000000  0.650791  0.000000  0.000000   \nἐπικατάρατος  0.701843  0.659825  0.000000  0.628292  0.649473  0.719791   \nεἰλικρινής    0.682634  0.668505  0.681956  0.658284  0.716471  0.659888   \nἐπιεικής      0.704386  0.664194  0.634871  0.666094  0.670205  0.717794   \n\n              γίγνομαι     λόγος  ἄνθρωπος       ἔχω  ...  διαφθορά   ἀστεῖος  \\\nεἰμί          0.816790  0.832309  0.829485  0.801647  ...  0.611027  0.712267   \nλέγω          0.811712  0.817641  0.806948  0.804503  ...  0.664336  0.638276   \nθεός          0.825915  0.848194  0.831868  0.803209  ...  0.684985  0.661073   \nοὗτος         0.818339  0.820483  0.805663  0.807987  ...  0.000000  0.623106   \nαὐτός         0.818108  0.819242  0.799562  0.798830  ...  0.732836  0.653055   \n...                ...       ...       ...       ...  ...       ...       ...   \nἨσαῦ          0.646738  0.595658  0.561296  0.626292  ...  0.000000  0.000000   \nἀγός          0.000000  0.000000  0.000000  0.000000  ...  0.000000  0.000000   \nἐπικατάρατος  0.599166  0.652322  0.748932  0.686628  ...  0.000000  0.000000   \nεἰλικρινής    0.660989  0.662027  0.667092  0.650461  ...  0.000000  0.700377   \nἐπιεικής      0.630268  0.654369  0.649063  0.651571  ...  0.000000  0.000000   \n\n              τετράπους  Τιμόθεος  προγιγνώσκω      Ἠσαῦ      ἀγός  \\\nεἰμί           0.683886  0.650736     0.692650  0.640500  0.000000   \nλέγω           0.612217  0.643624     0.574855  0.673392  0.721751   \nθεός           0.694251  0.678569     0.715929  0.638649  0.000000   \nοὗτος          0.603747  0.642749     0.634866  0.669871  0.650791   \nαὐτός          0.670347  0.630497     0.708919  0.644926  0.000000   \n...                 ...       ...          ...       ...       ...   \nἨσαῦ           0.000000  0.000000     0.000000  1.000000  0.000000   \nἀγός           0.000000  0.000000     0.000000  0.000000  1.000000   \nἐπικατάρατος   0.000000  0.000000     0.000000  0.000000  0.000000   \nεἰλικρινής     0.000000  0.000000     0.000000  0.000000  0.000000   \nἐπιεικής       0.000000  0.000000     0.000000  0.000000  0.000000   \n\n              ἐπικατάρατος  εἰλικρινής  ἐπιεικής  \nεἰμί              0.701843    0.682634  0.704386  \nλέγω              0.659825    0.668505  0.664194  \nθεός              0.000000    0.681956  0.634871  \nοὗτος             0.628292    0.658284  0.666094  \nαὐτός             0.649473    0.716471  0.670205  \n...                    ...         ...       ...  \nἨσαῦ              0.000000    0.000000  0.000000  \nἀγός              0.000000    0.000000  0.000000  \nἐπικατάρατος      1.000000    0.000000  0.000000  \nεἰλικρινής        0.000000    1.000000  0.000000  \nἐπιεικής          0.000000    0.000000  1.000000  \n\n[2000 rows x 2000 columns]",
      "text/html": "<div>\n<style scoped>\n    .dataframe tbody tr th:only-of-type {\n        vertical-align: middle;\n    }\n\n    .dataframe tbody tr th {\n        vertical-align: top;\n    }\n\n    .dataframe thead th {\n        text-align: right;\n    }\n</style>\n<table border=\"1\" class=\"dataframe\">\n  <thead>\n    <tr style=\"text-align: right;\">\n      <th></th>\n      <th>εἰμί</th>\n      <th>λέγω</th>\n      <th>θεός</th>\n      <th>οὗτος</th>\n      <th>αὐτός</th>\n      <th>πᾶς</th>\n      <th>γίγνομαι</th>\n      <th>λόγος</th>\n      <th>ἄνθρωπος</th>\n      <th>ἔχω</th>\n      <th>...</th>\n      <th>διαφθορά</th>\n      <th>ἀστεῖος</th>\n      <th>τετράπους</th>\n      <th>Τιμόθεος</th>\n      <th>προγιγνώσκω</th>\n      <th>Ἠσαῦ</th>\n      <th>ἀγός</th>\n      <th>ἐπικατάρατος</th>\n      <th>εἰλικρινής</th>\n      <th>ἐπιεικής</th>\n    </tr>\n  </thead>\n  <tbody>\n    <tr>\n      <th>εἰμί</th>\n      <td>1.000000</td>\n      <td>0.844593</td>\n      <td>0.858682</td>\n      <td>0.851344</td>\n      <td>0.847851</td>\n      <td>0.833992</td>\n      <td>0.816790</td>\n      <td>0.832309</td>\n      <td>0.829485</td>\n      <td>0.801647</td>\n      <td>...</td>\n      <td>0.611027</td>\n      <td>0.712267</td>\n      <td>0.683886</td>\n      <td>0.650736</td>\n      <td>0.692650</td>\n      <td>0.640500</td>\n      <td>0.000000</td>\n      <td>0.701843</td>\n      <td>0.682634</td>\n      <td>0.704386</td>\n    </tr>\n    <tr>\n      <th>λέγω</th>\n      <td>0.844593</td>\n      <td>1.000000</td>\n      <td>0.836977</td>\n      <td>0.857170</td>\n      <td>0.834168</td>\n      <td>0.814340</td>\n      <td>0.811712</td>\n      <td>0.817641</td>\n      <td>0.806948</td>\n      <td>0.804503</td>\n      <td>...</td>\n      <td>0.664336</td>\n      <td>0.638276</td>\n      <td>0.612217</td>\n      <td>0.643624</td>\n      <td>0.574855</td>\n      <td>0.673392</td>\n      <td>0.721751</td>\n      <td>0.659825</td>\n      <td>0.668505</td>\n      <td>0.664194</td>\n    </tr>\n    <tr>\n      <th>θεός</th>\n      <td>0.858682</td>\n      <td>0.836977</td>\n      <td>1.000000</td>\n      <td>0.822810</td>\n      <td>0.828806</td>\n      <td>0.834268</td>\n      <td>0.825915</td>\n      <td>0.848194</td>\n      <td>0.831868</td>\n      <td>0.803209</td>\n      <td>...</td>\n      <td>0.684985</td>\n      <td>0.661073</td>\n      <td>0.694251</td>\n      <td>0.678569</td>\n      <td>0.715929</td>\n      <td>0.638649</td>\n      <td>0.000000</td>\n      <td>0.000000</td>\n      <td>0.681956</td>\n      <td>0.634871</td>\n    </tr>\n    <tr>\n      <th>οὗτος</th>\n      <td>0.851344</td>\n      <td>0.857170</td>\n      <td>0.822810</td>\n      <td>1.000000</td>\n      <td>0.823465</td>\n      <td>0.816076</td>\n      <td>0.818339</td>\n      <td>0.820483</td>\n      <td>0.805663</td>\n      <td>0.807987</td>\n      <td>...</td>\n      <td>0.000000</td>\n      <td>0.623106</td>\n      <td>0.603747</td>\n      <td>0.642749</td>\n      <td>0.634866</td>\n      <td>0.669871</td>\n      <td>0.650791</td>\n      <td>0.628292</td>\n      <td>0.658284</td>\n      <td>0.666094</td>\n    </tr>\n    <tr>\n      <th>αὐτός</th>\n      <td>0.847851</td>\n      <td>0.834168</td>\n      <td>0.828806</td>\n      <td>0.823465</td>\n      <td>1.000000</td>\n      <td>0.819105</td>\n      <td>0.818108</td>\n      <td>0.819242</td>\n      <td>0.799562</td>\n      <td>0.798830</td>\n      <td>...</td>\n      <td>0.732836</td>\n      <td>0.653055</td>\n      <td>0.670347</td>\n      <td>0.630497</td>\n      <td>0.708919</td>\n      <td>0.644926</td>\n      <td>0.000000</td>\n      <td>0.649473</td>\n      <td>0.716471</td>\n      <td>0.670205</td>\n    </tr>\n    <tr>\n      <th>...</th>\n      <td>...</td>\n      <td>...</td>\n      <td>...</td>\n      <td>...</td>\n      <td>...</td>\n      <td>...</td>\n      <td>...</td>\n      <td>...</td>\n      <td>...</td>\n      <td>...</td>\n      <td>...</td>\n      <td>...</td>\n      <td>...</td>\n      <td>...</td>\n      <td>...</td>\n      <td>...</td>\n      <td>...</td>\n      <td>...</td>\n      <td>...</td>\n      <td>...</td>\n      <td>...</td>\n    </tr>\n    <tr>\n      <th>Ἠσαῦ</th>\n      <td>0.640500</td>\n      <td>0.673392</td>\n      <td>0.638649</td>\n      <td>0.669871</td>\n      <td>0.644926</td>\n      <td>0.554092</td>\n      <td>0.646738</td>\n      <td>0.595658</td>\n      <td>0.561296</td>\n      <td>0.626292</td>\n      <td>...</td>\n      <td>0.000000</td>\n      <td>0.000000</td>\n      <td>0.000000</td>\n      <td>0.000000</td>\n      <td>0.000000</td>\n      <td>1.000000</td>\n      <td>0.000000</td>\n      <td>0.000000</td>\n      <td>0.000000</td>\n      <td>0.000000</td>\n    </tr>\n    <tr>\n      <th>ἀγός</th>\n      <td>0.000000</td>\n      <td>0.721751</td>\n      <td>0.000000</td>\n      <td>0.650791</td>\n      <td>0.000000</td>\n      <td>0.000000</td>\n      <td>0.000000</td>\n      <td>0.000000</td>\n      <td>0.000000</td>\n      <td>0.000000</td>\n      <td>...</td>\n      <td>0.000000</td>\n      <td>0.000000</td>\n      <td>0.000000</td>\n      <td>0.000000</td>\n      <td>0.000000</td>\n      <td>0.000000</td>\n      <td>1.000000</td>\n      <td>0.000000</td>\n      <td>0.000000</td>\n      <td>0.000000</td>\n    </tr>\n    <tr>\n      <th>ἐπικατάρατος</th>\n      <td>0.701843</td>\n      <td>0.659825</td>\n      <td>0.000000</td>\n      <td>0.628292</td>\n      <td>0.649473</td>\n      <td>0.719791</td>\n      <td>0.599166</td>\n      <td>0.652322</td>\n      <td>0.748932</td>\n      <td>0.686628</td>\n      <td>...</td>\n      <td>0.000000</td>\n      <td>0.000000</td>\n      <td>0.000000</td>\n      <td>0.000000</td>\n      <td>0.000000</td>\n      <td>0.000000</td>\n      <td>0.000000</td>\n      <td>1.000000</td>\n      <td>0.000000</td>\n      <td>0.000000</td>\n    </tr>\n    <tr>\n      <th>εἰλικρινής</th>\n      <td>0.682634</td>\n      <td>0.668505</td>\n      <td>0.681956</td>\n      <td>0.658284</td>\n      <td>0.716471</td>\n      <td>0.659888</td>\n      <td>0.660989</td>\n      <td>0.662027</td>\n      <td>0.667092</td>\n      <td>0.650461</td>\n      <td>...</td>\n      <td>0.000000</td>\n      <td>0.700377</td>\n      <td>0.000000</td>\n      <td>0.000000</td>\n      <td>0.000000</td>\n      <td>0.000000</td>\n      <td>0.000000</td>\n      <td>0.000000</td>\n      <td>1.000000</td>\n      <td>0.000000</td>\n    </tr>\n    <tr>\n      <th>ἐπιεικής</th>\n      <td>0.704386</td>\n      <td>0.664194</td>\n      <td>0.634871</td>\n      <td>0.666094</td>\n      <td>0.670205</td>\n      <td>0.717794</td>\n      <td>0.630268</td>\n      <td>0.654369</td>\n      <td>0.649063</td>\n      <td>0.651571</td>\n      <td>...</td>\n      <td>0.000000</td>\n      <td>0.000000</td>\n      <td>0.000000</td>\n      <td>0.000000</td>\n      <td>0.000000</td>\n      <td>0.000000</td>\n      <td>0.000000</td>\n      <td>0.000000</td>\n      <td>0.000000</td>\n      <td>1.000000</td>\n    </tr>\n  </tbody>\n</table>\n<p>2000 rows × 2000 columns</p>\n</div>"
     },
     "execution_count": 24,
     "metadata": {},
     "output_type": "execute_result"
    }
   ],
   "source": [
    "# test...\n",
    "ppmi_matrix = get_ppmi_df(cooc_1to3, vocabulary_1to3, exp=2)\n",
    "ppmi_matrix"
   ],
   "metadata": {
    "collapsed": false,
    "pycharm": {
     "name": "#%%\n"
    },
    "ExecuteTime": {
     "end_time": "2023-10-23T22:26:28.087235Z",
     "start_time": "2023-10-23T22:25:27.497888Z"
    }
   }
  },
  {
   "cell_type": "code",
   "execution_count": 25,
   "outputs": [
    {
     "data": {
      "text/plain": "[1.0,\n 0.8445926219142675,\n 0.8586822927596901,\n 0.8513439336653383,\n 0.8478510019462848,\n 0.833992411531144,\n 0.8167897012357772,\n 0.8323093681927323,\n 0.8294853121027841,\n 0.8016466329697896,\n 0.8062014276715063,\n 0.8365129198210586,\n 0.793631625731796,\n 0.8113052509243767,\n 0.8071108907028384,\n 0.7939292556549651,\n 0.8125971793203344,\n 0.8161327537517985,\n 0.8003635938495581,\n 0.7875902773946784,\n 0.7995722044746016,\n 0.8172002053772364,\n 0.7925582425972273,\n 0.8015044228662127,\n 0.8207800964948999,\n 0.7723587551450364,\n 0.7742658176609052,\n 0.8067773058006547,\n 0.7953780966617187,\n 0.8203833968068805,\n 0.7580626417287376,\n 0.8110401155454767,\n 0.7882880849537819,\n 0.7855531834673753,\n 0.764882437776267,\n 0.7985707378720001,\n 0.7833783176828928,\n 0.7905859442457224,\n 0.7732425564969587,\n 0.8031060786081133,\n 0.7853316316262007,\n 0.7840731799695404,\n 0.7973990649878561,\n 0.7850153048704115,\n 0.7734464663556997,\n 0.805271932240688,\n 0.7831066488814394,\n 0.7688654311879287,\n 0.7749933708370403,\n 0.8011533885002143,\n 0.770984480162651,\n 0.7833527828196748,\n 0.7973209557923422,\n 0.8107386998556007,\n 0.7816339370263389,\n 0.790433869645656,\n 0.7672940656055239,\n 0.777771035687766,\n 0.7876874750982511,\n 0.7627176114168454,\n 0.8068730114350388,\n 0.8116167702374213,\n 0.778768241891713,\n 0.7826880601659129,\n 0.7955072355135862,\n 0.7912786429309409,\n 0.7917534127683808,\n 0.7936633134305029,\n 0.7776973390084019,\n 0.7906633368654529,\n 0.77365725285272,\n 0.7634774524440062,\n 0.7730075867931393,\n 0.7653425183216779,\n 0.7905418696655196,\n 0.7870684893974086,\n 0.7509890832798369,\n 0.7658858426025774,\n 0.7871294115089176,\n 0.7687106180174448,\n 0.7524892725826243,\n 0.7869961406238115,\n 0.7693982116403112,\n 0.7600910025065751,\n 0.7655214513793609,\n 0.750012058272536,\n 0.740857533537779,\n 0.7561489499919676,\n 0.7677910072648599,\n 0.7704502285060261,\n 0.7682597247985206,\n 0.7804236291273642,\n 0.7544806593595513,\n 0.7612543296334904,\n 0.7603984260698449,\n 0.7630712956934611,\n 0.7391398475217891,\n 0.7694199037329295,\n 0.7662713875817808,\n 0.7920360599503224,\n 0.7566376240125632,\n 0.769675910618678,\n 0.7744937579253677,\n 0.7518370409156917,\n 0.8125668077513609,\n 0.7615480313829746,\n 0.7457946314560224,\n 0.7620370901643815,\n 0.7751283742768513,\n 0.7706488664514576,\n 0.7574238595493137,\n 0.7673201583381335,\n 0.7372478336651634,\n 0.7730555822768539,\n 0.7592765732670723,\n 0.7643443358249641,\n 0.763615595441617,\n 0.7486945332707219,\n 0.7759009025690615,\n 0.7696918975425382,\n 0.7776923734360816,\n 0.7617507076651412,\n 0.7586628175426815,\n 0.7545248191092883,\n 0.7665996851535967,\n 0.7578545790655598,\n 0.749776774033044,\n 0.7701790735808485,\n 0.7416273982091559,\n 0.7486324121073049,\n 0.7689659682486232,\n 0.75404286702211,\n 0.7461729087241901,\n 0.7247994104135117,\n 0.7424822393422469,\n 0.7599258625680007,\n 0.8031303459433166,\n 0.7652880202801884,\n 0.7562305332722985,\n 0.7530154480293564,\n 0.7587766843020758,\n 0.782582470688175,\n 0.763914238266457,\n 0.803801013374206,\n 0.737069028491894,\n 0.7614784946988981,\n 0.7756877717613284,\n 0.716303581517226,\n 0.7369597492032723,\n 0.7674367553050282,\n 0.7518092568635315,\n 0.7741929448281188,\n 0.7940532859697916,\n 0.0,\n 0.7385754702631614,\n 0.7241886326634824,\n 0.7246357373275925,\n 0.7681315391651896,\n 0.78157966796847,\n 0.7361911883534201,\n 0.7274670432042224,\n 0.7702864015202704,\n 0.8005242882719568,\n 0.7747447613450609,\n 0.7462005608733115,\n 0.743134497971692,\n 0.761738829142913,\n 0.7547033816178399,\n 0.7275719881877092,\n 0.7640569831279798,\n 0.742885743628821,\n 0.7694481061180355,\n 0.7332518971519374,\n 0.7505819798846182,\n 0.7442724824413447,\n 0.75495038823968,\n 0.7428990139948403,\n 0.7578073590110579,\n 0.7512333079350506,\n 0.7821927140153199,\n 0.7587717444382389,\n 0.7404671920861835,\n 0.7566113124190731,\n 0.744877992227337,\n 0.7484795938419232,\n 0.7367183179910832,\n 0.7484971723392395,\n 0.7449779867625002,\n 0.7340174799399422,\n 0.7697733170956099,\n 0.7588251263091187,\n 0.7359577616681899,\n 0.7444589225772108,\n 0.7497829455430778,\n 0.7233459108248634,\n 0.7523580238898275,\n 0.7680227516511835,\n 0.7254052773080197,\n 0.7452262343650587,\n 0.7530401269809058,\n 0.7272250743482256,\n 0.723788991110745,\n 0.7771885089399625,\n 0.7273155047276152,\n 0.747264396567908,\n 0.756514288984948,\n 0.7497906769894132,\n 0.7060695459301507,\n 0.7514474555004398,\n 0.7351866275481819,\n 0.7656580424822348,\n 0.7380374168736525,\n 0.7488258307728506,\n 0.7852074731759441,\n 0.7373443410788556,\n 0.7773495277401218,\n 0.7644227618678434,\n 0.7550235960379003,\n 0.7625077100409735,\n 0.7447803737593129,\n 0.7230859652849141,\n 0.7334192815492379,\n 0.7668315208218778,\n 0.7476843623336208,\n 0.7143247739613074,\n 0.7479553176987085,\n 0.7456881094638291,\n 0.7765222388793441,\n 0.7450919117937075,\n 0.7594614362578995,\n 0.7538772132067896,\n 0.7191685451696663,\n 0.7704686106465845,\n 0.739405987241835,\n 0.7224690406399282,\n 0.7346092935643692,\n 0.7688319178289389,\n 0.7456753015505059,\n 0.7625773441698278,\n 0.6916911082372603,\n 0.7525908898034505,\n 0.7148666008047162,\n 0.7547337189074483,\n 0.7635892896660744,\n 0.726285356050685,\n 0.6903496068269807,\n 0.7392923841705592,\n 0.7782666905606259,\n 0.739714668581429,\n 0.7620606899148205,\n 0.7838978790225387,\n 0.7789655442497617,\n 0.7307551441584229,\n 0.7679147774040664,\n 0.7315448913842197,\n 0.7579872701992889,\n 0.7678439783357545,\n 0.7397571936152285,\n 0.7493967496119175,\n 0.7223034132180208,\n 0.7003342149410057,\n 0.7760723045599811,\n 0.7672345091768714,\n 0.7358207558008596,\n 0.7259041326337536,\n 0.7207733699426101,\n 0.7133236145057814,\n 0.7609437483585126,\n 0.734747841670404,\n 0.6921375364352047,\n 0.7577192583483201,\n 0.7585417396385132,\n 0.7394239606153676,\n 0.7339336490024198,\n 0.7642237677402133,\n 0.6986668678932092,\n 0.7408044138058211,\n 0.7374735990671327,\n 0.7228834817553887,\n 0.7627819957329817,\n 0.7828998109395365,\n 0.7309530683225017,\n 0.7361155115736502,\n 0.7287751795088407,\n 0.7450167447507535,\n 0.7521674155333817,\n 0.7342507108266918,\n 0.753583099793882,\n 0.7450357734344755,\n 0.7282309209672593,\n 0.7250365923309923,\n 0.7476640891866346,\n 0.7333092009392541,\n 0.7475855298691257,\n 0.7538505077507335,\n 0.7201222182431024,\n 0.7180686951407661,\n 0.7276590105268914,\n 0.7247795735650588,\n 0.740138292689912,\n 0.7561545924222384,\n 0.7405830002403374,\n 0.7359434878090666,\n 0.7285372741974997,\n 0.7754866038260203,\n 0.7675379309110237,\n 0.7650532899869564,\n 0.6854441197510877,\n 0.7615775849697395,\n 0.7412550976213131,\n 0.7094580588096366,\n 0.7292160212231377,\n 0.5500190607919335,\n 0.7485070823112752,\n 0.7354184760114301,\n 0.7494314510049921,\n 0.7256813369642375,\n 0.7332929048005802,\n 0.7295948656402139,\n 0.7528241681019883,\n 0.707154114602796,\n 0.6978015391275918,\n 0.7195688978812388,\n 0.7075858550728613,\n 0.740330200135496,\n 0.7307757728907982,\n 0.7147228228582726,\n 0.7266916594669353,\n 0.7151470201212339,\n 0.7008083400201919,\n 0.7484053860532144,\n 0.749836085607902,\n 0.7347829255559708,\n 0.7257698194154165,\n 0.7468835675717017,\n 0.7284275817125644,\n 0.6827251830165669,\n 0.7170548516571721,\n 0.7206195041784949,\n 0.7425689760142554,\n 0.696306369659897,\n 0.749085754421747,\n 0.7183169822054399,\n 0.7370009824317121,\n 0.6837194669762703,\n 0.7364767396229235,\n 0.7053482504806888,\n 0.7104217402522445,\n 0.729201284568309,\n 0.7200105778824172,\n 0.723448654734906,\n 0.7373493858179485,\n 0.7377649894989436,\n 0.7055072534613536,\n 0.7029159686030788,\n 0.7503400708186722,\n 0.731652824243,\n 0.73697047623921,\n 0.7186794725857821,\n 0.7126677434626105,\n 0.766748039928157,\n 0.7241163656072883,\n 0.7490237711693439,\n 0.7309699107701291,\n 0.7153647110004786,\n 0.7043464129604093,\n 0.7203029149606326,\n 0.7129238128016013,\n 0.7334600294788864,\n 0.7542025925040421,\n 0.7342138647640887,\n 0.7062319838427882,\n 0.7382174222524119,\n 0.7483318001019711,\n 0.7214880512552804,\n 0.7340486086447969,\n 0.7323493755608466,\n 0.7288760253612583,\n 0.773271892016567,\n 0.6820112953284747,\n 0.6971298821490947,\n 0.7294326910708642,\n 0.7112482360592972,\n 0.7505473486556593,\n 0.6968311307233337,\n 0.7519560846249953,\n 0.7215105068198527,\n 0.7424297826121059,\n 0.7180040896853824,\n 0.6973160692039481,\n 0.7183867405641436,\n 0.7050091055525686,\n 0.7160833015550263,\n 0.7344204496111342,\n 0.7459009982373223,\n 0.6880841923063561,\n 0.7537917324723311,\n 0.7221006630695332,\n 0.7414669544353208,\n 0.7233909448833209,\n 0.7591062209423648,\n 0.7205750972718291,\n 0.6976594292746621,\n 0.7030897272212069,\n 0.7317901246509296,\n 0.7330304734673074,\n 0.7596420923586304,\n 0.7462171459679158,\n 0.7334535179621852,\n 0.7278343007764652,\n 0.7290319502008434,\n 0.70173010749652,\n 0.6791360476245686,\n 0.7274148474429013,\n 0.7104092913417914,\n 0.7103451808410394,\n 0.7333163239452388,\n 0.7420764899104213,\n 0.7502430317369893,\n 0.7500124763888172,\n 0.6995936789404849,\n 0.7676109591101015,\n 0.7426818681790271,\n 0.7192978150854537,\n 0.726004070646756,\n 0.7201813887128863,\n 0.6994162642452676,\n 0.7406852099151479,\n 0.7693392338379317,\n 0.7174101803213115,\n 0.7147913008015468,\n 0.7509100520710237,\n 0.7831098463610424,\n 0.7253224288966003,\n 0.7568851374259002,\n 0.72494347426882,\n 0.6841675572289729,\n 0.7485712560029056,\n 0.7222611125955354,\n 0.7648881385743936,\n 0.7058195795344121,\n 0.6969033949184242,\n 0.7258999100784459,\n 0.7662969498543344,\n 0.7108594752534368,\n 0.7144982387591534,\n 0.6862112015128795,\n 0.7162638504639282,\n 0.7311296530136947,\n 0.7072347954258513,\n 0.7666139009476276,\n 0.7055945588093351,\n 0.7371132001280024,\n 0.738272041901826,\n 0.7050643289050137,\n 0.742391419430761,\n 0.7384255704948861,\n 0.7429762476904231,\n 0.744074397350245,\n 0.7265492584038591,\n 0.7290591776395167,\n 0.7117481175756636,\n 0.7108704403324848,\n 0.7562098461749652,\n 0.719953356863429,\n 0.7333352596412924,\n 0.7080646322758539,\n 0.7069983416485659,\n 0.7240899344216805,\n 0.7174245531754673,\n 0.6974435720228034,\n 0.7229544355058886,\n 0.7430052026461541,\n 0.7645126240755801,\n 0.7127041054924854,\n 0.7611671184345259,\n 0.6947026818750467,\n 0.7720053083338996,\n 0.6679159157770778,\n 0.750913919282037,\n 0.6943745247220615,\n 0.7389341032068212,\n 0.7143595661948562,\n 0.7348883930394173,\n 0.7126763302867737,\n 0.6997897415795818,\n 0.7024173539547831,\n 0.7393822291756665,\n 0.7255081366641516,\n 0.7099822024694461,\n 0.7315654319374183,\n 0.6849296307567887,\n 0.7380320671152629,\n 0.7461919835464366,\n 0.6822416723271177,\n 0.7373915688470223,\n 0.7342114877335495,\n 0.7361124233635887,\n 0.7160036251082541,\n 0.7075237703132052,\n 0.7184016757312203,\n 0.6930644470409919,\n 0.7160909901561383,\n 0.750001059168297,\n 0.7101966039232174,\n 0.7089525157247374,\n 0.699662369844825,\n 0.6981488581223071,\n 0.7299156184477548,\n 0.7014961979817804,\n 0.7102371087484574,\n 0.735608922520355,\n 0.7577968053770083,\n 0.6936105287548281,\n 0.7363954514106872,\n 0.7231258255650361,\n 0.68438198494302,\n 0.7350914329608306,\n 0.7055854240253365,\n 0.7596596819871614,\n 0.6933965774949179,\n 0.7109701741851172,\n 0.7362970199010188,\n 0.7551685688360086,\n 0.7073704196223027,\n 0.7193067646914382,\n 0.7579966603974201,\n 0.6736701659908434,\n 0.7040772119988474,\n 0.7065545617244064,\n 0.7226948830191355,\n 0.7397312734366371,\n 0.7058717157579807,\n 0.6823634344278667,\n 0.6833162899843747,\n 0.6698868474595941,\n 0.7614235213782625,\n 0.7517892757894621,\n 0.711221495473065,\n 0.7041415558522064,\n 0.7078188430731384,\n 0.666306028620953,\n 0.7248707214624999,\n 0.6961122850943172,\n 0.7272672763701212,\n 0.7809616457655,\n 0.6793696494126352,\n 0.7136456243942276,\n 0.7249052449023669,\n 0.7159101868152388,\n 0.7162076602580226,\n 0.7015281709711553,\n 0.6969928498942466,\n 0.7052713810908634,\n 0.6908857832412011,\n 0.721444591341791,\n 0.7301750827304133,\n 0.6569560791967158,\n 0.7663129786132559,\n 0.7210180322367487,\n 0.7519871710868699,\n 0.7003684742961839,\n 0.7311295142033211,\n 0.7385090140201026,\n 0.7168863034813181,\n 0.7209594252385007,\n 0.712372021890976,\n 0.6960039601584814,\n 0.6918610894829846,\n 0.7306036493109729,\n 0.7246550568627079,\n 0.6882327459859204,\n 0.6882982759021324,\n 0.7272920494027824,\n 0.7064957351367553,\n 0.7400104514919831,\n 0.7270699194150361,\n 0.7126850681303544,\n 0.733711283500337,\n 0.7108271205661107,\n 0.716699607158439,\n 0.7317894389059273,\n 0.7097778406579445,\n 0.7178424365233268,\n 0.7340373767208785,\n 0.7204727053550221,\n 0.7239816771382481,\n 0.6967077973880696,\n 0.7199164282352867,\n 0.7038163288723656,\n 0.721367355252745,\n 0.7045281757608606,\n 0.721369549828786,\n 0.7438221138590001,\n 0.7287939965603218,\n 0.7204043455289099,\n 0.7149589285385578,\n 0.709478080197055,\n 0.7370021298643264,\n 0.7313146299113158,\n 0.7242297532250495,\n 0.6815519562994027,\n 0.7175357704503119,\n 0.7329916314969199,\n 0.6967926282488848,\n 0.7145701246602861,\n 0.7391348577084431,\n 0.6875858841385031,\n 0.7198446232355575,\n 0.6951964619415464,\n 0.70941194069968,\n 0.6887002795664022,\n 0.7060393672668355,\n 0.6944905980805625,\n 0.7199004923708495,\n 0.7145350270480074,\n 0.7408976217132092,\n 0.7337242252778036,\n 0.6971769229524989,\n 0.7440509260754503,\n 0.7171498520016724,\n 0.6917206448960723,\n 0.7164760294916263,\n 0.7537582274939933,\n 0.7005888416534651,\n 0.7143972500099012,\n 0.7148074490111705,\n 0.7314072224442221,\n 0.721329243014727,\n 0.7124434034346355,\n 0.6634765226384228,\n 0.7182950618380336,\n 0.7196986044294787,\n 0.679393288278457,\n 0.6934908143588447,\n 0.7418259691463095,\n 0.711669576670182,\n 0.7494349141086788,\n 0.7081099405076027,\n 0.7006631945613145,\n 0.7340447793783178,\n 0.7432666833144842,\n 0.6926877844223133,\n 0.7110081521834346,\n 0.7044760485037435,\n 0.7098437287311185,\n 0.751021492330809,\n 0.7381342449327284,\n 0.7156360158565493,\n 0.7242171195688804,\n 0.7131106479024784,\n 0.7184330758749711,\n 0.7167302818103246,\n 0.6847220768535828,\n 0.7217425185259684,\n 0.7512446502914428,\n 0.7068329133814802,\n 0.7053944347400389,\n 0.7000087472467816,\n 0.7083000956401031,\n 0.725020706492078,\n 0.7202393952952244,\n 0.735986004009869,\n 0.7182959718359875,\n 0.7459784909267034,\n 0.6931901109054512,\n 0.6811650629740769,\n 0.7040254703816513,\n 0.7202005693901451,\n 0.6922930625521435,\n 0.7291922501544761,\n 0.6829507545670085,\n 0.6666981193364927,\n 0.706764683369661,\n 0.7498036418966396,\n 0.7107296966577272,\n 0.7128258134124651,\n 0.7250238141499834,\n 0.7206435732934273,\n 0.7119685541521454,\n 0.7076325637427604,\n 0.7289750437189393,\n 0.6922953944045144,\n 0.6862459248744531,\n 0.7061201124184159,\n 0.7499113429216765,\n 0.724289957095623,\n 0.6657018328823551,\n 0.7163828779118152,\n 0.6159813729984945,\n 0.7509251795574738,\n 0.6827804210721738,\n 0.687562136079791,\n 0.6615245464201783,\n 0.6815472831561272,\n 0.706752460793024,\n 0.7601149837362797,\n 0.702350156298637,\n 0.6710072617828183,\n 0.7068609312675703,\n 0.7182067961791275,\n 0.7160198269590483,\n 0.7372386773535151,\n 0.6973345964738435,\n 0.6837148594516823,\n 0.7175703506868112,\n 0.7509021497467303,\n 0.6783057451142486,\n 0.7440790855952316,\n 0.665239380627125,\n 0.7142622210473246,\n 0.7471178696034374,\n 0.7142230744877323,\n 0.7501592091627793,\n 0.7073061981523935,\n 0.7293522504136352,\n 0.7035605505007565,\n 0.6804354801662263,\n 0.7331360358701575,\n 0.7310038012371975,\n 0.7157889192950375,\n 0.7331677299496896,\n 0.6828671075330225,\n 0.7066322070364648,\n 0.7669518642571067,\n 0.7116766845898391,\n 0.7024400619143284,\n 0.7107856355698902,\n 0.6803463106311838,\n 0.6608998675094601,\n 0.6846627788500591,\n 0.7086377717149025,\n 0.7121199675310372,\n 0.7208880492753724,\n 0.697662465528798,\n 0.6590112437624172,\n 0.7216820857219958,\n 0.6825040696612351,\n 0.7053141532641518,\n 0.7450742026608445,\n 0.7088353804507654,\n 0.7419537410885163,\n 0.7362674104634714,\n 0.6892711319326051,\n 0.7004766482127,\n 0.7009127472184878,\n 0.7105271450203299,\n 0.7099995389322695,\n 0.7335470252630742,\n 0.7295323801193012,\n 0.6771189915032048,\n 0.6574169128459324,\n 0.7163758769632961,\n 0.7146453806077779,\n 0.6945377515017673,\n 0.7263245393837355,\n 0.6996538649855361,\n 0.6907253899227351,\n 0.7031477804499091,\n 0.7182291879236873,\n 0.7334103963791229,\n 0.7293052038223746,\n 0.6847105369990713,\n 0.6999282706944576,\n 0.7068331189089836,\n 0.7077128130842283,\n 0.685673941623222,\n 0.6785433499223167,\n 0.6790508431230903,\n 0.7157433222095264,\n 0.7289410419115401,\n 0.7339639230036741,\n 0.7186136360457138,\n 0.7392285085394332,\n 0.6940383936106703,\n 0.6767176983772278,\n 0.6904521726099071,\n 0.695552522567954,\n 0.6828874398313702,\n 0.7250080743035261,\n 0.6992615833033605,\n 0.7361807955263161,\n 0.7000897287057379,\n 0.675619043449316,\n 0.6970230909647822,\n 0.7318591732385038,\n 0.7233827687816964,\n 0.686138657372367,\n 0.7423312037575891,\n 0.6997625602704798,\n 0.7269144778373934,\n 0.7669727696973675,\n 0.6757994207316799,\n 0.710481311052225,\n 0.7285414104500101,\n 0.7225771237115928,\n 0.6979726995151789,\n 0.7289819601599611,\n 0.6793247454429635,\n 0.7355366597377934,\n 0.6905451042410118,\n 0.6791253975519478,\n 0.7064228982401768,\n 0.6767176983772278,\n 0.6645313850840168,\n 0.746074913939818,\n 0.6954353287661972,\n 0.7034514939265136,\n 0.7004683029619329,\n 0.7017346752552754,\n 0.6616610183198876,\n 0.7331932858196631,\n 0.6857820324988432,\n 0.6781547234212097,\n 0.7170758927978828,\n 0.7367336645472571,\n 0.7228745799218002,\n 0.6880731681983608,\n 0.7037981128889269,\n 0.7003728370894453,\n 0.6857181730867399,\n 0.6989370621574177,\n 0.6771857636812179,\n 0.7252776412511488,\n 0.7003260390113667,\n 0.7767558710065968,\n 0.7164401222564147,\n 0.6721144254866483,\n 0.7022724661895274,\n 0.7175951432076167,\n 0.6850861477198643,\n 0.6619193304594686,\n 0.7242530651835183,\n 0.6774641971670053,\n 0.7312696718672606,\n 0.7101814318924208,\n 0.6857324423013552,\n 0.6437224269235914,\n 0.7220268168646649,\n 0.7073903471594103,\n 0.7058983265399366,\n 0.7037540496635212,\n 0.7072865515294046,\n 0.6682517611387492,\n 0.7170234955668364,\n 0.7001839008813646,\n 0.7010944410778942,\n 0.6655645739958137,\n 0.7102892375166748,\n 0.662549023438509,\n 0.7134726729612447,\n 0.7045366509741159,\n 0.7130727432630195,\n 0.7531459325161723,\n 0.7234000623684178,\n 0.6859313240282947,\n 0.7534455053540824,\n 0.6919712918412665,\n 0.7151435114840357,\n 0.7186233533104643,\n 0.7077733688746877,\n 0.7351128532628349,\n 0.7120421967818867,\n 0.6904521726099071,\n 0.7105092770750777,\n 0.6809702472690362,\n 0.6814022140678607,\n 0.7069262212841967,\n 0.7071177478714934,\n 0.6585760722944671,\n 0.7044727875441671,\n 0.6833827887617336,\n 0.681661992546759,\n 0.7002141019552093,\n 0.7017312601022895,\n 0.6951641706567366,\n 0.7000824506831131,\n 0.7070096109691456,\n 0.6681959359290227,\n 0.6995778764750964,\n 0.6871377369327898,\n 0.7203386936480918,\n 0.6789123630647991,\n 0.7149712534695075,\n 0.6661599723596962,\n 0.6738044258447391,\n 0.7384441856794716,\n 0.7518188227113453,\n 0.72103724004775,\n 0.6802151849435042,\n 0.6927414230741757,\n 0.6635205021007223,\n 0.6903747150405917,\n 0.678355360900401,\n 0.6767581180460025,\n 0.7190900178182008,\n 0.6925762340073237,\n 0.6598334646738081,\n 0.6526648563848246,\n 0.6807168803984915,\n 0.6851382833367625,\n 0.6970259376416926,\n 0.6833827887617336,\n 0.6942225471443393,\n 0.6707913975885829,\n 0.7549556419850474,\n 0.7057430578864632,\n 0.7147228319029847,\n 0.6785258307677547,\n 0.6966123615411308,\n 0.6734655781947727,\n 0.6814473502369537,\n 0.7138323947102118,\n 0.7046151450358263,\n 0.6722337333535066,\n 0.6860395321110793,\n 0.7021348210155236,\n 0.7437670620397019,\n 0.6788122377305956,\n 0.7408188642956526,\n 0.6996941955372591,\n 0.7036923421435729,\n 0.6501180595470685,\n 0.7181270839937371,\n 0.734280533582111,\n 0.6615036101081212,\n 0.6563851396946281,\n 0.6756035695419388,\n 0.7006483084206693,\n 0.7333776015210575,\n 0.6621162490166339,\n 0.6887068799542523,\n 0.6966674458649131,\n 0.7331222340687364,\n 0.7133845118938974,\n 0.7116932724160479,\n 0.7447968600068895,\n 0.7110165108752488,\n 0.7020671691771999,\n 0.7044112333048042,\n 0.7298076993195284,\n 0.6999870917517307,\n 0.7503553936745433,\n 0.7127775327919452,\n 0.6743493930309294,\n 0.7091047627004659,\n 0.6853289738832014,\n 0.7039075111643087,\n 0.6958113111965347,\n 0.6901164831735228,\n 0.6918249100603874,\n 0.7231276479391913,\n 0.6979424499613607,\n 0.669726818554271,\n 0.6920547292588892,\n 0.7399175016341274,\n 0.6789276130249488,\n 0.687362560009145,\n 0.6882218389978467,\n 0.7140321215494038,\n 0.7027652552830174,\n 0.712131908856071,\n 0.6844319230457362,\n 0.7012347203518592,\n 0.7320637074475044,\n 0.6821044712551666,\n 0.703749125419538,\n 0.7595070713873199,\n 0.7165507462461862,\n 0.6744554007345386,\n 0.7129983181858549,\n 0.7025213101013739,\n 0.7031966390626476,\n 0.7309569454201436,\n 0.6899429804339012,\n 0.7020406308345871,\n 0.6923453592294767,\n 0.6698496695921821,\n 0.7017480792769636,\n 0.6662256310434485,\n 0.6875323513854258,\n 0.6728288543042426,\n 0.7278816050044019,\n 0.6994042850650221,\n 0.7271081599063112,\n 0.6921530562015127,\n 0.7036298800831917,\n 0.6985068780556979,\n 0.667840561008776,\n 0.7184263719675977,\n 0.6999870917517307,\n 0.7016851265674081,\n 0.6989523102960287,\n 0.7214684047084576,\n 0.6869012866601736,\n 0.6521126065851338,\n 0.6795706819056604,\n 0.6488238147635551,\n 0.6875676423433807,\n 0.6873843551071436,\n ...]"
     },
     "execution_count": 25,
     "metadata": {},
     "output_type": "execute_result"
    }
   ],
   "source": [
    "ppmi_matrix.iloc[0].tolist()"
   ],
   "metadata": {
    "collapsed": false,
    "pycharm": {
     "name": "#%%\n"
    },
    "ExecuteTime": {
     "end_time": "2023-10-23T22:26:28.094671Z",
     "start_time": "2023-10-23T22:26:28.090566Z"
    }
   }
  },
  {
   "cell_type": "code",
   "execution_count": 26,
   "outputs": [],
   "source": [
    "def svd_reduction(cooc_matrix, n_components=150, random_state=1, n_iter=10):\n",
    "    svd = TruncatedSVD(n_components=n_components, random_state=random_state, n_iter=n_iter)\n",
    "    svd_matrix = svd.fit_transform(cooc_matrix)\n",
    "    return svd_matrix"
   ],
   "metadata": {
    "collapsed": false,
    "pycharm": {
     "name": "#%%\n"
    },
    "ExecuteTime": {
     "end_time": "2023-10-23T22:26:28.096788Z",
     "start_time": "2023-10-23T22:26:28.094172Z"
    }
   }
  },
  {
   "cell_type": "code",
   "execution_count": 27,
   "outputs": [
    {
     "name": "stderr",
     "output_type": "stream",
     "text": [
      "/opt/homebrew/Caskroom/miniconda/base/lib/python3.11/site-packages/sklearn/utils/validation.py:767: FutureWarning: is_sparse is deprecated and will be removed in a future version. Check `isinstance(dtype, pd.SparseDtype)` instead.\n",
      "  if not hasattr(array, \"sparse\") and array.dtypes.apply(is_sparse).any():\n",
      "/opt/homebrew/Caskroom/miniconda/base/lib/python3.11/site-packages/sklearn/utils/validation.py:605: FutureWarning: is_sparse is deprecated and will be removed in a future version. Check `isinstance(dtype, pd.SparseDtype)` instead.\n",
      "  if is_sparse(pd_dtype):\n",
      "/opt/homebrew/Caskroom/miniconda/base/lib/python3.11/site-packages/sklearn/utils/validation.py:614: FutureWarning: is_sparse is deprecated and will be removed in a future version. Check `isinstance(dtype, pd.SparseDtype)` instead.\n",
      "  if is_sparse(pd_dtype) or not is_extension_array_dtype(pd_dtype):\n"
     ]
    }
   ],
   "source": [
    "svd_matrix = pd.DataFrame(svd_reduction(ppmi_matrix))"
   ],
   "metadata": {
    "collapsed": false,
    "pycharm": {
     "name": "#%%\n"
    },
    "ExecuteTime": {
     "end_time": "2023-10-23T22:26:29.117197Z",
     "start_time": "2023-10-23T22:26:28.097476Z"
    }
   }
  },
  {
   "cell_type": "code",
   "execution_count": 28,
   "outputs": [
    {
     "name": "stdout",
     "output_type": "stream",
     "text": [
      "0.8201615286843972\n",
      "0.9135114007289845\n"
     ]
    }
   ],
   "source": [
    "# test compare random two vectors, both raw and SVD factorized\n",
    "rows = [0,98]\n",
    "print(1 - spatial.distance.cosine(ppmi_matrix.iloc[rows[0]].tolist(), ppmi_matrix.iloc[rows[1]].tolist()))\n",
    "print(1 - spatial.distance.cosine(svd_matrix.iloc[rows[0]].tolist(), svd_matrix.iloc[rows[1]].tolist()))"
   ],
   "metadata": {
    "collapsed": false,
    "pycharm": {
     "name": "#%%\n"
    },
    "ExecuteTime": {
     "end_time": "2023-10-23T22:26:29.129019Z",
     "start_time": "2023-10-23T22:26:29.122611Z"
    }
   }
  },
  {
   "cell_type": "code",
   "execution_count": 29,
   "outputs": [
    {
     "name": "stdout",
     "output_type": "stream",
     "text": [
      "0.27637343680135684\n",
      "0.42419370537528955\n"
     ]
    }
   ],
   "source": [
    "# test compare random two vectors, both raw and SVD factorized\n",
    "rows = [0,1902]\n",
    "print(1 - spatial.distance.cosine(ppmi_matrix.iloc[rows[0]].tolist(), ppmi_matrix.iloc[rows[1]].tolist()))\n",
    "print(1 - spatial.distance.cosine(svd_matrix.iloc[rows[0]].tolist(), svd_matrix.iloc[rows[1]].tolist()))"
   ],
   "metadata": {
    "collapsed": false,
    "pycharm": {
     "name": "#%%\n"
    },
    "ExecuteTime": {
     "end_time": "2023-10-23T22:26:29.139298Z",
     "start_time": "2023-10-23T22:26:29.126856Z"
    }
   }
  },
  {
   "cell_type": "code",
   "execution_count": 30,
   "outputs": [
    {
     "name": "stdout",
     "output_type": "stream",
     "text": [
      "0.2656633102558976\n",
      "0.5963015293601855\n"
     ]
    }
   ],
   "source": [
    "# test compare random two vectors, both raw and SVD factorized\n",
    "rows = [1900,1902]\n",
    "print(1 - spatial.distance.cosine(ppmi_matrix.iloc[rows[0]].tolist(), ppmi_matrix.iloc[rows[1]].tolist()))\n",
    "print(1 - spatial.distance.cosine(svd_matrix.iloc[rows[0]].tolist(), svd_matrix.iloc[rows[1]].tolist()))"
   ],
   "metadata": {
    "collapsed": false,
    "pycharm": {
     "name": "#%%\n"
    },
    "ExecuteTime": {
     "end_time": "2023-10-23T22:26:29.188946Z",
     "start_time": "2023-10-23T22:26:29.137674Z"
    }
   }
  },
  {
   "cell_type": "code",
   "execution_count": 31,
   "outputs": [
    {
     "data": {
      "text/plain": "εἰμί            0.844593\nλέγω            1.000000\nθεός            0.836977\nοὗτος           0.857170\nαὐτός           0.834168\n                  ...   \nἨσαῦ            0.673392\nἀγός            0.721751\nἐπικατάρατος    0.659825\nεἰλικρινής      0.668505\nἐπιεικής        0.664194\nName: λέγω, Length: 2000, dtype: float64"
     },
     "execution_count": 31,
     "metadata": {},
     "output_type": "execute_result"
    }
   ],
   "source": [
    "ppmi_matrix.iloc[1]"
   ],
   "metadata": {
    "collapsed": false,
    "pycharm": {
     "name": "#%%\n"
    },
    "ExecuteTime": {
     "end_time": "2023-10-23T22:26:29.193098Z",
     "start_time": "2023-10-23T22:26:29.145242Z"
    }
   }
  },
  {
   "cell_type": "code",
   "execution_count": 32,
   "outputs": [],
   "source": [
    "def from_docs_to_embeddings(docs, vocabulary=None, min_freq=5):\n",
    "    cooc, vocabulary = get_cooc(docs, vocabulary=vocabulary, min_freq=min_freq)\n",
    "    pmi_matrix = get_ppmi_df(cooc, vocabulary)\n",
    "    word_vectors_array = svd_reduction(pmi_matrix, n_components=150, random_state=1, n_iter=10)\n",
    "    word_vectors_df = pd.DataFrame(word_vectors_array, index=vocabulary)\n",
    "    pmi_svd_cos = pd.DataFrame(cosine_similarity(word_vectors_array), columns=vocabulary, index=vocabulary)\n",
    "    return [cooc, vocabulary, pmi_matrix, word_vectors_df, pmi_svd_cos]"
   ],
   "metadata": {
    "collapsed": false,
    "pycharm": {
     "name": "#%%\n"
    },
    "ExecuteTime": {
     "end_time": "2023-10-23T22:26:29.206799Z",
     "start_time": "2023-10-23T22:26:29.163968Z"
    }
   }
  },
  {
   "cell_type": "code",
   "execution_count": 33,
   "outputs": [
    {
     "name": "stderr",
     "output_type": "stream",
     "text": [
      "/opt/homebrew/Caskroom/miniconda/base/lib/python3.11/site-packages/sklearn/utils/validation.py:767: FutureWarning: is_sparse is deprecated and will be removed in a future version. Check `isinstance(dtype, pd.SparseDtype)` instead.\n",
      "  if not hasattr(array, \"sparse\") and array.dtypes.apply(is_sparse).any():\n",
      "/opt/homebrew/Caskroom/miniconda/base/lib/python3.11/site-packages/sklearn/utils/validation.py:605: FutureWarning: is_sparse is deprecated and will be removed in a future version. Check `isinstance(dtype, pd.SparseDtype)` instead.\n",
      "  if is_sparse(pd_dtype):\n",
      "/opt/homebrew/Caskroom/miniconda/base/lib/python3.11/site-packages/sklearn/utils/validation.py:614: FutureWarning: is_sparse is deprecated and will be removed in a future version. Check `isinstance(dtype, pd.SparseDtype)` instead.\n",
      "  if is_sparse(pd_dtype) or not is_extension_array_dtype(pd_dtype):\n",
      "/opt/homebrew/Caskroom/miniconda/base/lib/python3.11/site-packages/sklearn/utils/validation.py:767: FutureWarning: is_sparse is deprecated and will be removed in a future version. Check `isinstance(dtype, pd.SparseDtype)` instead.\n",
      "  if not hasattr(array, \"sparse\") and array.dtypes.apply(is_sparse).any():\n",
      "/opt/homebrew/Caskroom/miniconda/base/lib/python3.11/site-packages/sklearn/utils/validation.py:605: FutureWarning: is_sparse is deprecated and will be removed in a future version. Check `isinstance(dtype, pd.SparseDtype)` instead.\n",
      "  if is_sparse(pd_dtype):\n",
      "/opt/homebrew/Caskroom/miniconda/base/lib/python3.11/site-packages/sklearn/utils/validation.py:614: FutureWarning: is_sparse is deprecated and will be removed in a future version. Check `isinstance(dtype, pd.SparseDtype)` instead.\n",
      "  if is_sparse(pd_dtype) or not is_extension_array_dtype(pd_dtype):\n"
     ]
    },
    {
     "name": "stdout",
     "output_type": "stream",
     "text": [
      "CPU times: user 2min 13s, sys: 1.76 s, total: 2min 15s\n",
      "Wall time: 2min 5s\n"
     ]
    }
   ],
   "source": [
    "%%time\n",
    "data_1to3 = from_docs_to_embeddings(sents_1to3 + bigrams_1to3, vocabulary=vocabulary_1to3[:2000])\n",
    "data_4to5 = from_docs_to_embeddings(sents_4to5 + bigrams_4to5, vocabulary=vocabulary_4to5[:2000])"
   ],
   "metadata": {
    "collapsed": false,
    "pycharm": {
     "name": "#%%\n"
    },
    "ExecuteTime": {
     "end_time": "2023-10-23T22:28:34.773344Z",
     "start_time": "2023-10-23T22:26:29.184641Z"
    }
   }
  },
  {
   "cell_type": "code",
   "execution_count": 34,
   "outputs": [
    {
     "data": {
      "text/plain": "                  εἰμί      λέγω      θεός     οὗτος     αὐτός       πᾶς  \\\nεἰμί          1.000000  0.999414  0.999396  0.999797  0.999411  0.999240   \nλέγω          0.999414  1.000000  0.998942  0.999462  0.998892  0.998599   \nθεός          0.999396  0.998942  1.000000  0.999341  0.999284  0.999445   \nοὗτος         0.999797  0.999462  0.999341  1.000000  0.999610  0.999231   \nαὐτός         0.999411  0.998892  0.999284  0.999610  1.000000  0.999208   \n...                ...       ...       ...       ...       ...       ...   \nἨσαῦ          0.444603  0.448117  0.448946  0.446275  0.447702  0.448971   \nἀγός          0.362465  0.367451  0.365327  0.363591  0.357497  0.364253   \nἐπικατάρατος  0.415683  0.419498  0.419867  0.414418  0.413304  0.419945   \nεἰλικρινής    0.539889  0.538425  0.542845  0.540992  0.542627  0.548935   \nἐπιεικής      0.498687  0.498750  0.501288  0.500783  0.502368  0.505738   \n\n              γίγνομαι     λόγος  ἄνθρωπος       ἔχω  ...  διαφθορά   ἀστεῖος  \\\nεἰμί          0.999426  0.998424  0.997860  0.998832  ...  0.479306  0.488988   \nλέγω          0.999008  0.997959  0.997491  0.998262  ...  0.482979  0.487113   \nθεός          0.999108  0.997965  0.997992  0.998210  ...  0.484193  0.489931   \nοὗτος         0.999282  0.998751  0.998058  0.998776  ...  0.480379  0.487695   \nαὐτός         0.998801  0.998409  0.998291  0.998423  ...  0.482126  0.489200   \n...                ...       ...       ...       ...  ...       ...       ...   \nἨσαῦ          0.449982  0.449322  0.452650  0.450269  ...  0.605679  0.600913   \nἀγός          0.367413  0.367840  0.369218  0.367879  ...  0.551230  0.591386   \nἐπικατάρατος  0.419410  0.412478  0.427419  0.420612  ...  0.561707  0.509276   \nεἰλικρινής    0.541249  0.554593  0.554535  0.545084  ...  0.573848  0.661916   \nἐπιεικής      0.498759  0.511810  0.509613  0.505920  ...  0.532257  0.578395   \n\n              τετράπους  Τιμόθεος  προγιγνώσκω      Ἠσαῦ      ἀγός  \\\nεἰμί           0.396114  0.464423     0.462820  0.444603  0.362465   \nλέγω           0.393836  0.465612     0.464885  0.448117  0.367451   \nθεός           0.400092  0.469545     0.465575  0.448946  0.365327   \nοὗτος          0.394921  0.464356     0.463495  0.446275  0.363591   \nαὐτός          0.397144  0.464445     0.465545  0.447702  0.357497   \n...                 ...       ...          ...       ...       ...   \nἨσαῦ           0.406747  0.586849     0.625993  1.000000  0.609692   \nἀγός           0.415571  0.593518     0.554006  0.609692  1.000000   \nἐπικατάρατος   0.436674  0.642985     0.484428  0.651709  0.626738   \nεἰλικρινής     0.484152  0.620912     0.585377  0.518484  0.471233   \nἐπιεικής       0.410316  0.557838     0.514379  0.572262  0.560774   \n\n              ἐπικατάρατος  εἰλικρινής  ἐπιεικής  \nεἰμί              0.415683    0.539889  0.498687  \nλέγω              0.419498    0.538425  0.498750  \nθεός              0.419867    0.542845  0.501288  \nοὗτος             0.414418    0.540992  0.500783  \nαὐτός             0.413304    0.542627  0.502368  \n...                    ...         ...       ...  \nἨσαῦ              0.651709    0.518484  0.572262  \nἀγός              0.626738    0.471233  0.560774  \nἐπικατάρατος      1.000000    0.482672  0.503636  \nεἰλικρινής        0.482672    1.000000  0.574721  \nἐπιεικής          0.503636    0.574721  1.000000  \n\n[2000 rows x 2000 columns]",
      "text/html": "<div>\n<style scoped>\n    .dataframe tbody tr th:only-of-type {\n        vertical-align: middle;\n    }\n\n    .dataframe tbody tr th {\n        vertical-align: top;\n    }\n\n    .dataframe thead th {\n        text-align: right;\n    }\n</style>\n<table border=\"1\" class=\"dataframe\">\n  <thead>\n    <tr style=\"text-align: right;\">\n      <th></th>\n      <th>εἰμί</th>\n      <th>λέγω</th>\n      <th>θεός</th>\n      <th>οὗτος</th>\n      <th>αὐτός</th>\n      <th>πᾶς</th>\n      <th>γίγνομαι</th>\n      <th>λόγος</th>\n      <th>ἄνθρωπος</th>\n      <th>ἔχω</th>\n      <th>...</th>\n      <th>διαφθορά</th>\n      <th>ἀστεῖος</th>\n      <th>τετράπους</th>\n      <th>Τιμόθεος</th>\n      <th>προγιγνώσκω</th>\n      <th>Ἠσαῦ</th>\n      <th>ἀγός</th>\n      <th>ἐπικατάρατος</th>\n      <th>εἰλικρινής</th>\n      <th>ἐπιεικής</th>\n    </tr>\n  </thead>\n  <tbody>\n    <tr>\n      <th>εἰμί</th>\n      <td>1.000000</td>\n      <td>0.999414</td>\n      <td>0.999396</td>\n      <td>0.999797</td>\n      <td>0.999411</td>\n      <td>0.999240</td>\n      <td>0.999426</td>\n      <td>0.998424</td>\n      <td>0.997860</td>\n      <td>0.998832</td>\n      <td>...</td>\n      <td>0.479306</td>\n      <td>0.488988</td>\n      <td>0.396114</td>\n      <td>0.464423</td>\n      <td>0.462820</td>\n      <td>0.444603</td>\n      <td>0.362465</td>\n      <td>0.415683</td>\n      <td>0.539889</td>\n      <td>0.498687</td>\n    </tr>\n    <tr>\n      <th>λέγω</th>\n      <td>0.999414</td>\n      <td>1.000000</td>\n      <td>0.998942</td>\n      <td>0.999462</td>\n      <td>0.998892</td>\n      <td>0.998599</td>\n      <td>0.999008</td>\n      <td>0.997959</td>\n      <td>0.997491</td>\n      <td>0.998262</td>\n      <td>...</td>\n      <td>0.482979</td>\n      <td>0.487113</td>\n      <td>0.393836</td>\n      <td>0.465612</td>\n      <td>0.464885</td>\n      <td>0.448117</td>\n      <td>0.367451</td>\n      <td>0.419498</td>\n      <td>0.538425</td>\n      <td>0.498750</td>\n    </tr>\n    <tr>\n      <th>θεός</th>\n      <td>0.999396</td>\n      <td>0.998942</td>\n      <td>1.000000</td>\n      <td>0.999341</td>\n      <td>0.999284</td>\n      <td>0.999445</td>\n      <td>0.999108</td>\n      <td>0.997965</td>\n      <td>0.997992</td>\n      <td>0.998210</td>\n      <td>...</td>\n      <td>0.484193</td>\n      <td>0.489931</td>\n      <td>0.400092</td>\n      <td>0.469545</td>\n      <td>0.465575</td>\n      <td>0.448946</td>\n      <td>0.365327</td>\n      <td>0.419867</td>\n      <td>0.542845</td>\n      <td>0.501288</td>\n    </tr>\n    <tr>\n      <th>οὗτος</th>\n      <td>0.999797</td>\n      <td>0.999462</td>\n      <td>0.999341</td>\n      <td>1.000000</td>\n      <td>0.999610</td>\n      <td>0.999231</td>\n      <td>0.999282</td>\n      <td>0.998751</td>\n      <td>0.998058</td>\n      <td>0.998776</td>\n      <td>...</td>\n      <td>0.480379</td>\n      <td>0.487695</td>\n      <td>0.394921</td>\n      <td>0.464356</td>\n      <td>0.463495</td>\n      <td>0.446275</td>\n      <td>0.363591</td>\n      <td>0.414418</td>\n      <td>0.540992</td>\n      <td>0.500783</td>\n    </tr>\n    <tr>\n      <th>αὐτός</th>\n      <td>0.999411</td>\n      <td>0.998892</td>\n      <td>0.999284</td>\n      <td>0.999610</td>\n      <td>1.000000</td>\n      <td>0.999208</td>\n      <td>0.998801</td>\n      <td>0.998409</td>\n      <td>0.998291</td>\n      <td>0.998423</td>\n      <td>...</td>\n      <td>0.482126</td>\n      <td>0.489200</td>\n      <td>0.397144</td>\n      <td>0.464445</td>\n      <td>0.465545</td>\n      <td>0.447702</td>\n      <td>0.357497</td>\n      <td>0.413304</td>\n      <td>0.542627</td>\n      <td>0.502368</td>\n    </tr>\n    <tr>\n      <th>...</th>\n      <td>...</td>\n      <td>...</td>\n      <td>...</td>\n      <td>...</td>\n      <td>...</td>\n      <td>...</td>\n      <td>...</td>\n      <td>...</td>\n      <td>...</td>\n      <td>...</td>\n      <td>...</td>\n      <td>...</td>\n      <td>...</td>\n      <td>...</td>\n      <td>...</td>\n      <td>...</td>\n      <td>...</td>\n      <td>...</td>\n      <td>...</td>\n      <td>...</td>\n      <td>...</td>\n    </tr>\n    <tr>\n      <th>Ἠσαῦ</th>\n      <td>0.444603</td>\n      <td>0.448117</td>\n      <td>0.448946</td>\n      <td>0.446275</td>\n      <td>0.447702</td>\n      <td>0.448971</td>\n      <td>0.449982</td>\n      <td>0.449322</td>\n      <td>0.452650</td>\n      <td>0.450269</td>\n      <td>...</td>\n      <td>0.605679</td>\n      <td>0.600913</td>\n      <td>0.406747</td>\n      <td>0.586849</td>\n      <td>0.625993</td>\n      <td>1.000000</td>\n      <td>0.609692</td>\n      <td>0.651709</td>\n      <td>0.518484</td>\n      <td>0.572262</td>\n    </tr>\n    <tr>\n      <th>ἀγός</th>\n      <td>0.362465</td>\n      <td>0.367451</td>\n      <td>0.365327</td>\n      <td>0.363591</td>\n      <td>0.357497</td>\n      <td>0.364253</td>\n      <td>0.367413</td>\n      <td>0.367840</td>\n      <td>0.369218</td>\n      <td>0.367879</td>\n      <td>...</td>\n      <td>0.551230</td>\n      <td>0.591386</td>\n      <td>0.415571</td>\n      <td>0.593518</td>\n      <td>0.554006</td>\n      <td>0.609692</td>\n      <td>1.000000</td>\n      <td>0.626738</td>\n      <td>0.471233</td>\n      <td>0.560774</td>\n    </tr>\n    <tr>\n      <th>ἐπικατάρατος</th>\n      <td>0.415683</td>\n      <td>0.419498</td>\n      <td>0.419867</td>\n      <td>0.414418</td>\n      <td>0.413304</td>\n      <td>0.419945</td>\n      <td>0.419410</td>\n      <td>0.412478</td>\n      <td>0.427419</td>\n      <td>0.420612</td>\n      <td>...</td>\n      <td>0.561707</td>\n      <td>0.509276</td>\n      <td>0.436674</td>\n      <td>0.642985</td>\n      <td>0.484428</td>\n      <td>0.651709</td>\n      <td>0.626738</td>\n      <td>1.000000</td>\n      <td>0.482672</td>\n      <td>0.503636</td>\n    </tr>\n    <tr>\n      <th>εἰλικρινής</th>\n      <td>0.539889</td>\n      <td>0.538425</td>\n      <td>0.542845</td>\n      <td>0.540992</td>\n      <td>0.542627</td>\n      <td>0.548935</td>\n      <td>0.541249</td>\n      <td>0.554593</td>\n      <td>0.554535</td>\n      <td>0.545084</td>\n      <td>...</td>\n      <td>0.573848</td>\n      <td>0.661916</td>\n      <td>0.484152</td>\n      <td>0.620912</td>\n      <td>0.585377</td>\n      <td>0.518484</td>\n      <td>0.471233</td>\n      <td>0.482672</td>\n      <td>1.000000</td>\n      <td>0.574721</td>\n    </tr>\n    <tr>\n      <th>ἐπιεικής</th>\n      <td>0.498687</td>\n      <td>0.498750</td>\n      <td>0.501288</td>\n      <td>0.500783</td>\n      <td>0.502368</td>\n      <td>0.505738</td>\n      <td>0.498759</td>\n      <td>0.511810</td>\n      <td>0.509613</td>\n      <td>0.505920</td>\n      <td>...</td>\n      <td>0.532257</td>\n      <td>0.578395</td>\n      <td>0.410316</td>\n      <td>0.557838</td>\n      <td>0.514379</td>\n      <td>0.572262</td>\n      <td>0.560774</td>\n      <td>0.503636</td>\n      <td>0.574721</td>\n      <td>1.000000</td>\n    </tr>\n  </tbody>\n</table>\n<p>2000 rows × 2000 columns</p>\n</div>"
     },
     "execution_count": 34,
     "metadata": {},
     "output_type": "execute_result"
    }
   ],
   "source": [
    "data_1to3[-1]"
   ],
   "metadata": {
    "collapsed": false,
    "pycharm": {
     "name": "#%%\n"
    },
    "ExecuteTime": {
     "end_time": "2023-10-23T22:28:34.835535Z",
     "start_time": "2023-10-23T22:28:34.783886Z"
    }
   }
  },
  {
   "cell_type": "code",
   "execution_count": 35,
   "outputs": [],
   "source": [
    "pickle.dump(data_1to3, open(\"../data/large_files/embeddings_sents+bgs+tgs_ppmi2_1to3.pkl\", \"wb\"), pickle.HIGHEST_PROTOCOL)\n",
    "pickle.dump(data_4to5, open(\"../data/large_files/embeddings_sents+bgs+tgs_ppmi2_4to5.pkl\", \"wb\"), pickle.HIGHEST_PROTOCOL)"
   ],
   "metadata": {
    "collapsed": false,
    "pycharm": {
     "name": "#%%\n"
    },
    "ExecuteTime": {
     "end_time": "2023-10-23T22:28:34.897464Z",
     "start_time": "2023-10-23T22:28:34.815702Z"
    }
   }
  },
  {
   "cell_type": "code",
   "execution_count": null,
   "outputs": [],
   "source": [],
   "metadata": {
    "collapsed": false,
    "pycharm": {
     "name": "#%%\n"
    }
   }
  }
 ],
 "metadata": {
  "kernelspec": {
   "name": "python3",
   "language": "python",
   "display_name": "Python 3 (ipykernel)"
  },
  "language_info": {
   "codemirror_mode": {
    "name": "ipython",
    "version": 2
   },
   "file_extension": ".py",
   "mimetype": "text/x-python",
   "name": "python",
   "nbconvert_exporter": "python",
   "pygments_lexer": "ipython2",
   "version": "2.7.6"
  }
 },
 "nbformat": 4,
 "nbformat_minor": 0
}
