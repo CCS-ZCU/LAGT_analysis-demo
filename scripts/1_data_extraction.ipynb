{
 "cells": [
  {
   "cell_type": "code",
   "execution_count": 15,
   "metadata": {
    "pycharm": {
     "name": "#%%\n"
    },
    "ExecuteTime": {
     "end_time": "2023-10-23T21:52:23.536955Z",
     "start_time": "2023-10-23T21:52:23.526204Z"
    }
   },
   "outputs": [],
   "source": [
    "import pandas as pd\n",
    "import os\n",
    "import matplotlib.pyplot as plt"
   ]
  },
  {
   "cell_type": "markdown",
   "source": [
    "# LAGTec subcorpus preparation"
   ],
   "metadata": {
    "collapsed": false,
    "pycharm": {
     "name": "#%% md\n"
    }
   }
  },
  {
   "cell_type": "code",
   "execution_count": 19,
   "outputs": [],
   "source": [
    "# point out to your local version of the LAGT corpus (v2.1 or higher) and save it locally or download it straight from zenodo\n",
    "try:\n",
    "    LAGT = pd.read_json(\"../data/large_files/LAGT.json\")\n",
    "except:\n",
    "    LAGT = pd.read_json(\"https://zenodo.org/records/10035517/files/LAGT_v2-1.json?download=1\")\n",
    "    os.mkdir(\"../data/large_files\")\n",
    "    LAGT.to_json(\"../data/large_files/LAGT.json\")"
   ],
   "metadata": {
    "collapsed": false,
    "pycharm": {
     "name": "#%%\n"
    },
    "ExecuteTime": {
     "end_time": "2023-10-23T21:53:23.242014Z",
     "start_time": "2023-10-23T21:53:15.661079Z"
    }
   }
  },
  {
   "cell_type": "code",
   "execution_count": 4,
   "outputs": [
    {
     "data": {
      "text/plain": "                          filename              author  \\\n0  tlg0001.tlg001.perseus-grc2.xml  Apollonius Rhodius   \n1  tlg0003.tlg001.perseus-grc2.xml          Thucydides   \n2  tlg0004.tlg001.perseus-grc1.xml   Diogenes Laertius   \n3  tlg0005.tlg001.perseus-grc1.xml          Theocritus   \n4  tlg0005.tlg002.perseus-grc1.xml          Theocritus   \n\n                           title  wordcount author_id          doc_id  \\\n0                    Argonautica      38822   tlg0001  tlg0001.tlg001   \n1          The Peloponnesian War     150118   tlg0003  tlg0003.tlg001   \n2  Lives of Eminent Philosophers     110763   tlg0004  tlg0004.tlg001   \n3                        Idylls       19200   tlg0005  tlg0005.tlg001   \n4                      Epigrams        1734   tlg0005  tlg0005.tlg002   \n\n   raw_date  date_avr                  date_probs  date_manual provenience  \\\n0    3 B.C.      -2.5                 {'-2.5': 1}         -2.5       pagan   \n1    5 B.C.      -4.5                 {'-4.5': 1}         -4.5       pagan   \n2    A.D. 3       2.5                  {'2.5': 1}          NaN               \n3  4-3 B.C.      -3.0  {'-3.5': 0.5, '-2.5': 0.5}          NaN               \n4  4-3 B.C.      -3.0  {'-3.5': 0.5, '-2.5': 0.5}          NaN               \n\n     tlg_epithet                                       clean_string  \\\n0      Epici/-ae  ἀρχόμενος σέο, Φοῖβε, παλαιγενέων κλέα φωτῶν μ...   \n1  Historici/-ae   Θουκυδίδης Ἀθηναῖος ξυνέγραψε τὸν πόλεμον τῶν...   \n2      Biographi  Τὸ τῆς φιλοσοφίας ἔργον ἔνιοί φασιν ἀπὸ βαρβάρ...   \n3       Bucolici   ̔Αδύ τι τὸ ψιθύρισμα καὶ ἁ πίτυς αἰπόλε τήνα,...   \n4       Bucolici  τὰ ῥόδα τὰ δροσόεντα καὶ ἁ κατάπυκνος ἐκείνα ἕ...   \n\n   n_sentences                               lemmatized_sentences  GLAUx?  \n0         3252  [[ἄρχω, Φοῖβος, παλαιγενής, κλέος, φώς, μιμνῄσ...    True  \n1         6068  [[Θουκυδίδης, Ἀθηναῖος, συγγράφω, πόλεμος, Πελ...    True  \n2        10245  [[φιλοσοφία, ἔργον, ἔνιοι, φημί, βάρβαρος, ἄρχ...   False  \n3         1982  [[ἡδύς, τις, ψιθύρισμα, πίτυς, αἰπόλος, ἐκεῖνο...    True  \n4          152  [[ῥόδον, δροσόεις, κατάπυκνος, ἐκεῖνος, ἕρπυλλ...    True  ",
      "text/html": "<div>\n<style scoped>\n    .dataframe tbody tr th:only-of-type {\n        vertical-align: middle;\n    }\n\n    .dataframe tbody tr th {\n        vertical-align: top;\n    }\n\n    .dataframe thead th {\n        text-align: right;\n    }\n</style>\n<table border=\"1\" class=\"dataframe\">\n  <thead>\n    <tr style=\"text-align: right;\">\n      <th></th>\n      <th>filename</th>\n      <th>author</th>\n      <th>title</th>\n      <th>wordcount</th>\n      <th>author_id</th>\n      <th>doc_id</th>\n      <th>raw_date</th>\n      <th>date_avr</th>\n      <th>date_probs</th>\n      <th>date_manual</th>\n      <th>provenience</th>\n      <th>tlg_epithet</th>\n      <th>clean_string</th>\n      <th>n_sentences</th>\n      <th>lemmatized_sentences</th>\n      <th>GLAUx?</th>\n    </tr>\n  </thead>\n  <tbody>\n    <tr>\n      <th>0</th>\n      <td>tlg0001.tlg001.perseus-grc2.xml</td>\n      <td>Apollonius Rhodius</td>\n      <td>Argonautica</td>\n      <td>38822</td>\n      <td>tlg0001</td>\n      <td>tlg0001.tlg001</td>\n      <td>3 B.C.</td>\n      <td>-2.5</td>\n      <td>{'-2.5': 1}</td>\n      <td>-2.5</td>\n      <td>pagan</td>\n      <td>Epici/-ae</td>\n      <td>ἀρχόμενος σέο, Φοῖβε, παλαιγενέων κλέα φωτῶν μ...</td>\n      <td>3252</td>\n      <td>[[ἄρχω, Φοῖβος, παλαιγενής, κλέος, φώς, μιμνῄσ...</td>\n      <td>True</td>\n    </tr>\n    <tr>\n      <th>1</th>\n      <td>tlg0003.tlg001.perseus-grc2.xml</td>\n      <td>Thucydides</td>\n      <td>The Peloponnesian War</td>\n      <td>150118</td>\n      <td>tlg0003</td>\n      <td>tlg0003.tlg001</td>\n      <td>5 B.C.</td>\n      <td>-4.5</td>\n      <td>{'-4.5': 1}</td>\n      <td>-4.5</td>\n      <td>pagan</td>\n      <td>Historici/-ae</td>\n      <td>Θουκυδίδης Ἀθηναῖος ξυνέγραψε τὸν πόλεμον τῶν...</td>\n      <td>6068</td>\n      <td>[[Θουκυδίδης, Ἀθηναῖος, συγγράφω, πόλεμος, Πελ...</td>\n      <td>True</td>\n    </tr>\n    <tr>\n      <th>2</th>\n      <td>tlg0004.tlg001.perseus-grc1.xml</td>\n      <td>Diogenes Laertius</td>\n      <td>Lives of Eminent Philosophers</td>\n      <td>110763</td>\n      <td>tlg0004</td>\n      <td>tlg0004.tlg001</td>\n      <td>A.D. 3</td>\n      <td>2.5</td>\n      <td>{'2.5': 1}</td>\n      <td>NaN</td>\n      <td></td>\n      <td>Biographi</td>\n      <td>Τὸ τῆς φιλοσοφίας ἔργον ἔνιοί φασιν ἀπὸ βαρβάρ...</td>\n      <td>10245</td>\n      <td>[[φιλοσοφία, ἔργον, ἔνιοι, φημί, βάρβαρος, ἄρχ...</td>\n      <td>False</td>\n    </tr>\n    <tr>\n      <th>3</th>\n      <td>tlg0005.tlg001.perseus-grc1.xml</td>\n      <td>Theocritus</td>\n      <td>Idylls</td>\n      <td>19200</td>\n      <td>tlg0005</td>\n      <td>tlg0005.tlg001</td>\n      <td>4-3 B.C.</td>\n      <td>-3.0</td>\n      <td>{'-3.5': 0.5, '-2.5': 0.5}</td>\n      <td>NaN</td>\n      <td></td>\n      <td>Bucolici</td>\n      <td>̔Αδύ τι τὸ ψιθύρισμα καὶ ἁ πίτυς αἰπόλε τήνα,...</td>\n      <td>1982</td>\n      <td>[[ἡδύς, τις, ψιθύρισμα, πίτυς, αἰπόλος, ἐκεῖνο...</td>\n      <td>True</td>\n    </tr>\n    <tr>\n      <th>4</th>\n      <td>tlg0005.tlg002.perseus-grc1.xml</td>\n      <td>Theocritus</td>\n      <td>Epigrams</td>\n      <td>1734</td>\n      <td>tlg0005</td>\n      <td>tlg0005.tlg002</td>\n      <td>4-3 B.C.</td>\n      <td>-3.0</td>\n      <td>{'-3.5': 0.5, '-2.5': 0.5}</td>\n      <td>NaN</td>\n      <td></td>\n      <td>Bucolici</td>\n      <td>τὰ ῥόδα τὰ δροσόεντα καὶ ἁ κατάπυκνος ἐκείνα ἕ...</td>\n      <td>152</td>\n      <td>[[ῥόδον, δροσόεις, κατάπυκνος, ἐκεῖνος, ἕρπυλλ...</td>\n      <td>True</td>\n    </tr>\n  </tbody>\n</table>\n</div>"
     },
     "execution_count": 4,
     "metadata": {},
     "output_type": "execute_result"
    }
   ],
   "source": [
    "LAGT.head()"
   ],
   "metadata": {
    "collapsed": false,
    "ExecuteTime": {
     "end_time": "2023-10-23T21:31:09.626255Z",
     "start_time": "2023-10-23T21:31:09.591311Z"
    }
   }
  },
  {
   "cell_type": "code",
   "execution_count": 22,
   "outputs": [
    {
     "data": {
      "text/plain": "1277"
     },
     "execution_count": 22,
     "metadata": {},
     "output_type": "execute_result"
    }
   ],
   "source": [
    "len(LAGT)"
   ],
   "metadata": {
    "collapsed": false,
    "ExecuteTime": {
     "end_time": "2023-10-23T21:54:26.434064Z",
     "start_time": "2023-10-23T21:54:26.407545Z"
    }
   }
  },
  {
   "cell_type": "code",
   "execution_count": 20,
   "outputs": [
    {
     "data": {
      "text/plain": "Index(['filename', 'author', 'title', 'wordcount', 'author_id', 'doc_id',\n       'raw_date', 'date_avr', 'date_probs', 'date_manual', 'provenience',\n       'tlg_epithet', 'clean_string', 'n_sentences', 'lemmatized_sentences',\n       'GLAUx?'],\n      dtype='object')"
     },
     "execution_count": 20,
     "metadata": {},
     "output_type": "execute_result"
    }
   ],
   "source": [
    "LAGT.columns"
   ],
   "metadata": {
    "collapsed": false,
    "pycharm": {
     "name": "#%%\n"
    },
    "ExecuteTime": {
     "end_time": "2023-10-23T21:53:58.569228Z",
     "start_time": "2023-10-23T21:53:58.541641Z"
    }
   }
  },
  {
   "cell_type": "code",
   "execution_count": 23,
   "outputs": [
    {
     "data": {
      "text/plain": "148"
     },
     "execution_count": 23,
     "metadata": {},
     "output_type": "execute_result"
    }
   ],
   "source": [
    "len(LAGT[LAGT[\"provenience\"]==\"christian\"])"
   ],
   "metadata": {
    "collapsed": false,
    "pycharm": {
     "name": "#%%\n"
    },
    "ExecuteTime": {
     "end_time": "2023-10-23T21:54:33.699752Z",
     "start_time": "2023-10-23T21:54:33.685961Z"
    }
   }
  },
  {
   "cell_type": "code",
   "execution_count": 24,
   "outputs": [
    {
     "name": "stdout",
     "output_type": "stream",
     "text": [
      "0.5 29 151723\n",
      "1.5 51 474124\n",
      "2.5 104 1711991\n",
      "3.5 137 3059696\n",
      "4.5 148 3566823\n"
     ]
    }
   ],
   "source": [
    "for date in [0.5, 1.5, 2.5, 3.5, 4.5]:\n",
    "    mask = ((LAGT[\"date_avr\"] <= date) & (LAGT[\"provenience\"]==\"christian\"))\n",
    "    print(date,\n",
    "          mask.sum(),\n",
    "          LAGT[mask][\"wordcount\"].sum()\n",
    "          )"
   ],
   "metadata": {
    "collapsed": false,
    "pycharm": {
     "name": "#%%\n"
    },
    "ExecuteTime": {
     "end_time": "2023-10-23T21:56:13.933037Z",
     "start_time": "2023-10-23T21:56:13.907994Z"
    }
   }
  },
  {
   "cell_type": "code",
   "execution_count": 25,
   "outputs": [],
   "source": [
    "# all texts before the end of the\n",
    "LAGTec = LAGT[(LAGT[\"date_avr\"] < 5) & (LAGT[\"provenience\"]==\"christian\")].copy()"
   ],
   "metadata": {
    "collapsed": false,
    "pycharm": {
     "name": "#%%\n"
    },
    "ExecuteTime": {
     "end_time": "2023-10-23T21:56:26.106506Z",
     "start_time": "2023-10-23T21:56:26.095084Z"
    }
   }
  },
  {
   "cell_type": "code",
   "execution_count": 26,
   "outputs": [
    {
     "data": {
      "text/plain": "                            filename          author            title  \\\n390  tlg0031.tlg006.perseus-grc2.xml  Paul of Tarsus           Romans   \n391  tlg0031.tlg007.perseus-grc2.xml  Paul of Tarsus    1 Corinthians   \n392  tlg0031.tlg008.perseus-grc2.xml  Paul of Tarsus    2 Corinthians   \n393  tlg0031.tlg009.perseus-grc2.xml  Paul of Tarsus        Galatians   \n395  tlg0031.tlg011.perseus-grc2.xml  Paul of Tarsus      Philippians   \n397  tlg0031.tlg013.perseus-grc2.xml  Paul of Tarsus  1 Thessalonians   \n402  tlg0031.tlg018.perseus-grc2.xml  Paul of Tarsus         Philemon   \n\n     wordcount    author_id          doc_id raw_date  date_avr  date_probs  \\\n390       7107  tlg0031paul  tlg0031.tlg006   A.D. 1       0.5  {'0.5': 1}   \n391       6814  tlg0031paul  tlg0031.tlg007   A.D. 1       0.5  {'0.5': 1}   \n392       4470  tlg0031paul  tlg0031.tlg008   A.D. 1       0.5  {'0.5': 1}   \n393       2235  tlg0031paul  tlg0031.tlg009   A.D. 1       0.5  {'0.5': 1}   \n395       1631  tlg0031paul  tlg0031.tlg011   A.D. 1       0.5  {'0.5': 1}   \n397       1475  tlg0031paul  tlg0031.tlg013   A.D. 1       0.5  {'0.5': 1}   \n402        334  tlg0031paul  tlg0031.tlg018   A.D. 1       0.5  {'0.5': 1}   \n\n     date_manual provenience tlg_epithet  \\\n390          0.5   christian          []   \n391          0.5   christian          []   \n392          0.5   christian          []   \n393          0.5   christian          []   \n395          0.5   christian          []   \n397          0.5   christian          []   \n402          0.5   christian          []   \n\n                                          clean_string  n_sentences  \\\n390   ΠΑΥΛΟΣ δοῦλος Ἰησοῦ Χριστοῦ, κλητὸς ἀπόστολος...          490   \n391   ΠΑΥΛΟΣ κλητὸς ἀπόστολος Ἰησοῦ Χριστοῦ διὰ θελ...          544   \n392   ΠΑΥΛΟΣ ἀπόστολος Χριστοῦ Ἰησοῦ διὰ θελήματος ...          274   \n393   ΠΑΥΛΟΣ ἀπόστολος, οὐκ ἀπʼ ἀνθρώπων οὐδὲ διʼ ἀ...          159   \n395   ΠΑΥΛΟΣ ΚΑΙ ΤΙΜΟΘΕΟΣ δοῦλοι Χριστοῦ Ἰησοῦ πᾶσι...           83   \n397   ΠΑΥΛΟΣ ΚΑΙ ΣΙΛΟΥΑΝΟΣ ΚΑΙ ΤΙΜΟΘΕΟΣ τῇ ἐκκλησίᾳ...           65   \n402   ΠΑΥΛΟΣ δέσμιος Χριστοῦ Ἰησοῦ καὶ Τιμόθεος ὁ ἀ...           17   \n\n                                  lemmatized_sentences  GLAUx?  \n390  [[Παῦλος, δοῦλος, Ἰησοῦς, Χριστός, κλητός, ἀπό...   False  \n391  [[Παῦλος, κλητός, ἀπόστολος, Ἰησοῦς, Χριστός, ...   False  \n392  [[Παῦλος, ἀπόστολος, Χριστός, Ἰησοῦς, θέλημα, ...   False  \n393  [[Παῦλος, ἀπόστολος, ἄνθρωπος, ἄνθρωπος, Ἰησοῦ...   False  \n395  [[Παῦλος, Τιμόθεος, δοῦλος, Χριστός, Ἰησοῦς, ἅ...   False  \n397  [[Παῦλος, σιλουανος, Τιμόθεος, ἐκκλησία, Θεσσα...   False  \n402  [[Παῦλος, δέσμιος, Χριστός, Ἰησοῦς, Τιμόθεος, ...   False  ",
      "text/html": "<div>\n<style scoped>\n    .dataframe tbody tr th:only-of-type {\n        vertical-align: middle;\n    }\n\n    .dataframe tbody tr th {\n        vertical-align: top;\n    }\n\n    .dataframe thead th {\n        text-align: right;\n    }\n</style>\n<table border=\"1\" class=\"dataframe\">\n  <thead>\n    <tr style=\"text-align: right;\">\n      <th></th>\n      <th>filename</th>\n      <th>author</th>\n      <th>title</th>\n      <th>wordcount</th>\n      <th>author_id</th>\n      <th>doc_id</th>\n      <th>raw_date</th>\n      <th>date_avr</th>\n      <th>date_probs</th>\n      <th>date_manual</th>\n      <th>provenience</th>\n      <th>tlg_epithet</th>\n      <th>clean_string</th>\n      <th>n_sentences</th>\n      <th>lemmatized_sentences</th>\n      <th>GLAUx?</th>\n    </tr>\n  </thead>\n  <tbody>\n    <tr>\n      <th>390</th>\n      <td>tlg0031.tlg006.perseus-grc2.xml</td>\n      <td>Paul of Tarsus</td>\n      <td>Romans</td>\n      <td>7107</td>\n      <td>tlg0031paul</td>\n      <td>tlg0031.tlg006</td>\n      <td>A.D. 1</td>\n      <td>0.5</td>\n      <td>{'0.5': 1}</td>\n      <td>0.5</td>\n      <td>christian</td>\n      <td>[]</td>\n      <td>ΠΑΥΛΟΣ δοῦλος Ἰησοῦ Χριστοῦ, κλητὸς ἀπόστολος...</td>\n      <td>490</td>\n      <td>[[Παῦλος, δοῦλος, Ἰησοῦς, Χριστός, κλητός, ἀπό...</td>\n      <td>False</td>\n    </tr>\n    <tr>\n      <th>391</th>\n      <td>tlg0031.tlg007.perseus-grc2.xml</td>\n      <td>Paul of Tarsus</td>\n      <td>1 Corinthians</td>\n      <td>6814</td>\n      <td>tlg0031paul</td>\n      <td>tlg0031.tlg007</td>\n      <td>A.D. 1</td>\n      <td>0.5</td>\n      <td>{'0.5': 1}</td>\n      <td>0.5</td>\n      <td>christian</td>\n      <td>[]</td>\n      <td>ΠΑΥΛΟΣ κλητὸς ἀπόστολος Ἰησοῦ Χριστοῦ διὰ θελ...</td>\n      <td>544</td>\n      <td>[[Παῦλος, κλητός, ἀπόστολος, Ἰησοῦς, Χριστός, ...</td>\n      <td>False</td>\n    </tr>\n    <tr>\n      <th>392</th>\n      <td>tlg0031.tlg008.perseus-grc2.xml</td>\n      <td>Paul of Tarsus</td>\n      <td>2 Corinthians</td>\n      <td>4470</td>\n      <td>tlg0031paul</td>\n      <td>tlg0031.tlg008</td>\n      <td>A.D. 1</td>\n      <td>0.5</td>\n      <td>{'0.5': 1}</td>\n      <td>0.5</td>\n      <td>christian</td>\n      <td>[]</td>\n      <td>ΠΑΥΛΟΣ ἀπόστολος Χριστοῦ Ἰησοῦ διὰ θελήματος ...</td>\n      <td>274</td>\n      <td>[[Παῦλος, ἀπόστολος, Χριστός, Ἰησοῦς, θέλημα, ...</td>\n      <td>False</td>\n    </tr>\n    <tr>\n      <th>393</th>\n      <td>tlg0031.tlg009.perseus-grc2.xml</td>\n      <td>Paul of Tarsus</td>\n      <td>Galatians</td>\n      <td>2235</td>\n      <td>tlg0031paul</td>\n      <td>tlg0031.tlg009</td>\n      <td>A.D. 1</td>\n      <td>0.5</td>\n      <td>{'0.5': 1}</td>\n      <td>0.5</td>\n      <td>christian</td>\n      <td>[]</td>\n      <td>ΠΑΥΛΟΣ ἀπόστολος, οὐκ ἀπʼ ἀνθρώπων οὐδὲ διʼ ἀ...</td>\n      <td>159</td>\n      <td>[[Παῦλος, ἀπόστολος, ἄνθρωπος, ἄνθρωπος, Ἰησοῦ...</td>\n      <td>False</td>\n    </tr>\n    <tr>\n      <th>395</th>\n      <td>tlg0031.tlg011.perseus-grc2.xml</td>\n      <td>Paul of Tarsus</td>\n      <td>Philippians</td>\n      <td>1631</td>\n      <td>tlg0031paul</td>\n      <td>tlg0031.tlg011</td>\n      <td>A.D. 1</td>\n      <td>0.5</td>\n      <td>{'0.5': 1}</td>\n      <td>0.5</td>\n      <td>christian</td>\n      <td>[]</td>\n      <td>ΠΑΥΛΟΣ ΚΑΙ ΤΙΜΟΘΕΟΣ δοῦλοι Χριστοῦ Ἰησοῦ πᾶσι...</td>\n      <td>83</td>\n      <td>[[Παῦλος, Τιμόθεος, δοῦλος, Χριστός, Ἰησοῦς, ἅ...</td>\n      <td>False</td>\n    </tr>\n    <tr>\n      <th>397</th>\n      <td>tlg0031.tlg013.perseus-grc2.xml</td>\n      <td>Paul of Tarsus</td>\n      <td>1 Thessalonians</td>\n      <td>1475</td>\n      <td>tlg0031paul</td>\n      <td>tlg0031.tlg013</td>\n      <td>A.D. 1</td>\n      <td>0.5</td>\n      <td>{'0.5': 1}</td>\n      <td>0.5</td>\n      <td>christian</td>\n      <td>[]</td>\n      <td>ΠΑΥΛΟΣ ΚΑΙ ΣΙΛΟΥΑΝΟΣ ΚΑΙ ΤΙΜΟΘΕΟΣ τῇ ἐκκλησίᾳ...</td>\n      <td>65</td>\n      <td>[[Παῦλος, σιλουανος, Τιμόθεος, ἐκκλησία, Θεσσα...</td>\n      <td>False</td>\n    </tr>\n    <tr>\n      <th>402</th>\n      <td>tlg0031.tlg018.perseus-grc2.xml</td>\n      <td>Paul of Tarsus</td>\n      <td>Philemon</td>\n      <td>334</td>\n      <td>tlg0031paul</td>\n      <td>tlg0031.tlg018</td>\n      <td>A.D. 1</td>\n      <td>0.5</td>\n      <td>{'0.5': 1}</td>\n      <td>0.5</td>\n      <td>christian</td>\n      <td>[]</td>\n      <td>ΠΑΥΛΟΣ δέσμιος Χριστοῦ Ἰησοῦ καὶ Τιμόθεος ὁ ἀ...</td>\n      <td>17</td>\n      <td>[[Παῦλος, δέσμιος, Χριστός, Ἰησοῦς, Τιμόθεος, ...</td>\n      <td>False</td>\n    </tr>\n  </tbody>\n</table>\n</div>"
     },
     "execution_count": 26,
     "metadata": {},
     "output_type": "execute_result"
    }
   ],
   "source": [
    "LAGTec[LAGTec[\"author_id\"].str.startswith(\"tlg0031paul\")]"
   ],
   "metadata": {
    "collapsed": false,
    "pycharm": {
     "name": "#%%\n"
    },
    "ExecuteTime": {
     "end_time": "2023-10-23T21:56:34.534350Z",
     "start_time": "2023-10-23T21:56:34.462842Z"
    }
   }
  },
  {
   "cell_type": "markdown",
   "source": [
    "# Paul data extraction"
   ],
   "metadata": {
    "collapsed": false,
    "pycharm": {
     "name": "#%% md\n"
    }
   }
  },
  {
   "cell_type": "code",
   "execution_count": 27,
   "outputs": [],
   "source": [
    "def get_word_sentences(sentences_list, word):\n",
    "    selected_sentences = [sentence for sentence in sentences_list if word in sentence]\n",
    "    return selected_sentences"
   ],
   "metadata": {
    "collapsed": false,
    "pycharm": {
     "name": "#%%\n"
    },
    "ExecuteTime": {
     "end_time": "2023-10-23T21:56:56.586124Z",
     "start_time": "2023-10-23T21:56:56.569509Z"
    }
   }
  },
  {
   "cell_type": "code",
   "execution_count": 28,
   "outputs": [],
   "source": [
    "word = \"Παῦλος\"\n",
    "LAGTec[\"sentences_paul\"] = LAGTec[\"lemmatized_sentences\"].apply(lambda x: get_word_sentences(x, word))"
   ],
   "metadata": {
    "collapsed": false,
    "pycharm": {
     "name": "#%%\n"
    },
    "ExecuteTime": {
     "end_time": "2023-10-23T21:57:48.313818Z",
     "start_time": "2023-10-23T21:57:48.279211Z"
    }
   }
  },
  {
   "cell_type": "code",
   "execution_count": 29,
   "outputs": [],
   "source": [
    "LAGTec[\"sentences_paul_N\"] = LAGTec[\"sentences_paul\"].apply(lambda x: len(x))"
   ],
   "metadata": {
    "collapsed": false,
    "pycharm": {
     "name": "#%%\n"
    },
    "ExecuteTime": {
     "end_time": "2023-10-23T21:57:48.827379Z",
     "start_time": "2023-10-23T21:57:48.820667Z"
    }
   }
  },
  {
   "cell_type": "code",
   "execution_count": 30,
   "outputs": [],
   "source": [
    "\n",
    "word = \"ἀπόστολος\"\n",
    "LAGTec[\"sentences_apostle\"] = LAGTec[\"lemmatized_sentences\"].apply(lambda x: get_word_sentences(x, word))"
   ],
   "metadata": {
    "collapsed": false,
    "pycharm": {
     "name": "#%%\n"
    },
    "ExecuteTime": {
     "end_time": "2023-10-23T21:57:49.662756Z",
     "start_time": "2023-10-23T21:57:49.651270Z"
    }
   }
  },
  {
   "cell_type": "code",
   "execution_count": 31,
   "outputs": [],
   "source": [
    "def count_word_in_sentences(sentences_list, word):\n",
    "    selected_sentences = [sentence for sentence in sentences_list if word in sentence]\n",
    "    word_N = sum([sen.count(word) for sen in sentences_list])\n",
    "    return word_N\n",
    "\n",
    "word = \"Παῦλος\"\n",
    "LAGTec[\"paul_N\"] = LAGTec[\"lemmatized_sentences\"].apply(lambda x: count_word_in_sentences(x, word))"
   ],
   "metadata": {
    "collapsed": false,
    "pycharm": {
     "name": "#%%\n"
    },
    "ExecuteTime": {
     "end_time": "2023-10-23T21:58:25.040226Z",
     "start_time": "2023-10-23T21:58:25.038570Z"
    }
   }
  },
  {
   "cell_type": "code",
   "execution_count": 32,
   "outputs": [
    {
     "data": {
      "text/plain": "82"
     },
     "execution_count": 32,
     "metadata": {},
     "output_type": "execute_result"
    }
   ],
   "source": [
    "# how many documents contain the word \"Παῦλος\"\n",
    "len(LAGTec[LAGTec[\"sentences_paul_N\"]>0])"
   ],
   "metadata": {
    "collapsed": false,
    "pycharm": {
     "name": "#%%\n"
    },
    "ExecuteTime": {
     "end_time": "2023-10-23T21:58:25.563433Z",
     "start_time": "2023-10-23T21:58:25.560289Z"
    }
   }
  },
  {
   "cell_type": "code",
   "execution_count": 33,
   "outputs": [],
   "source": [
    "LAGTec[\"sentences_apostle_N\"] = LAGTec[\"sentences_apostle\"].apply(lambda x: len(x))"
   ],
   "metadata": {
    "collapsed": false,
    "pycharm": {
     "name": "#%%\n"
    },
    "ExecuteTime": {
     "end_time": "2023-10-23T21:58:26.206959Z",
     "start_time": "2023-10-23T21:58:26.201557Z"
    }
   }
  },
  {
   "cell_type": "code",
   "execution_count": 34,
   "outputs": [
    {
     "data": {
      "text/plain": "104"
     },
     "execution_count": 34,
     "metadata": {},
     "output_type": "execute_result"
    }
   ],
   "source": [
    "len(LAGTec[LAGTec[\"sentences_apostle_N\"]>0])"
   ],
   "metadata": {
    "collapsed": false,
    "pycharm": {
     "name": "#%%\n"
    },
    "ExecuteTime": {
     "end_time": "2023-10-23T21:58:27.094964Z",
     "start_time": "2023-10-23T21:58:27.079827Z"
    }
   }
  },
  {
   "cell_type": "code",
   "execution_count": 35,
   "outputs": [
    {
     "data": {
      "text/plain": "1045"
     },
     "execution_count": 35,
     "metadata": {},
     "output_type": "execute_result"
    }
   ],
   "source": [
    "LAGTec[\"sentences_paul_N\"].sum()"
   ],
   "metadata": {
    "collapsed": false,
    "pycharm": {
     "name": "#%%\n"
    },
    "ExecuteTime": {
     "end_time": "2023-10-23T21:58:51.216512Z",
     "start_time": "2023-10-23T21:58:51.204338Z"
    }
   }
  },
  {
   "cell_type": "code",
   "execution_count": 36,
   "outputs": [
    {
     "data": {
      "text/plain": "148"
     },
     "execution_count": 36,
     "metadata": {},
     "output_type": "execute_result"
    }
   ],
   "source": [
    "len(LAGTec)"
   ],
   "metadata": {
    "collapsed": false,
    "pycharm": {
     "name": "#%%\n"
    },
    "ExecuteTime": {
     "end_time": "2023-10-23T21:58:51.901646Z",
     "start_time": "2023-10-23T21:58:51.889278Z"
    }
   }
  },
  {
   "cell_type": "code",
   "execution_count": 37,
   "outputs": [
    {
     "data": {
      "text/plain": "3566823"
     },
     "execution_count": 37,
     "metadata": {},
     "output_type": "execute_result"
    }
   ],
   "source": [
    "LAGTec[\"wordcount\"].sum()"
   ],
   "metadata": {
    "collapsed": false,
    "pycharm": {
     "name": "#%%\n"
    },
    "ExecuteTime": {
     "end_time": "2023-10-23T21:58:52.284511Z",
     "start_time": "2023-10-23T21:58:52.280629Z"
    }
   }
  },
  {
   "cell_type": "markdown",
   "source": [
    "# Overview by century"
   ],
   "metadata": {
    "collapsed": false,
    "pycharm": {
     "name": "#%% md\n"
    }
   }
  },
  {
   "cell_type": "code",
   "execution_count": 50,
   "outputs": [
    {
     "data": {
      "text/plain": "   date_avr  wordcount  date_manual  n_sentences  GLAUx?  sentences_paul_N  \\\n0       0.5     151723         14.5        10108       2               156   \n1       1.5     322401         32.5        41076       6                18   \n2       2.5    1237867        130.0       129474      11               485   \n3       3.5    1347705         97.5       117599       0               205   \n4       4.5     507127         31.5        45061       0               181   \n\n   paul_N  sentences_apostle_N  \n0     160                   84  \n1      18                   92  \n2     497                  654  \n3     213                  690  \n4     184                  146  ",
      "text/html": "<div>\n<style scoped>\n    .dataframe tbody tr th:only-of-type {\n        vertical-align: middle;\n    }\n\n    .dataframe tbody tr th {\n        vertical-align: top;\n    }\n\n    .dataframe thead th {\n        text-align: right;\n    }\n</style>\n<table border=\"1\" class=\"dataframe\">\n  <thead>\n    <tr style=\"text-align: right;\">\n      <th></th>\n      <th>date_avr</th>\n      <th>wordcount</th>\n      <th>date_manual</th>\n      <th>n_sentences</th>\n      <th>GLAUx?</th>\n      <th>sentences_paul_N</th>\n      <th>paul_N</th>\n      <th>sentences_apostle_N</th>\n    </tr>\n  </thead>\n  <tbody>\n    <tr>\n      <th>0</th>\n      <td>0.5</td>\n      <td>151723</td>\n      <td>14.5</td>\n      <td>10108</td>\n      <td>2</td>\n      <td>156</td>\n      <td>160</td>\n      <td>84</td>\n    </tr>\n    <tr>\n      <th>1</th>\n      <td>1.5</td>\n      <td>322401</td>\n      <td>32.5</td>\n      <td>41076</td>\n      <td>6</td>\n      <td>18</td>\n      <td>18</td>\n      <td>92</td>\n    </tr>\n    <tr>\n      <th>2</th>\n      <td>2.5</td>\n      <td>1237867</td>\n      <td>130.0</td>\n      <td>129474</td>\n      <td>11</td>\n      <td>485</td>\n      <td>497</td>\n      <td>654</td>\n    </tr>\n    <tr>\n      <th>3</th>\n      <td>3.5</td>\n      <td>1347705</td>\n      <td>97.5</td>\n      <td>117599</td>\n      <td>0</td>\n      <td>205</td>\n      <td>213</td>\n      <td>690</td>\n    </tr>\n    <tr>\n      <th>4</th>\n      <td>4.5</td>\n      <td>507127</td>\n      <td>31.5</td>\n      <td>45061</td>\n      <td>0</td>\n      <td>181</td>\n      <td>184</td>\n      <td>146</td>\n    </tr>\n  </tbody>\n</table>\n</div>"
     },
     "execution_count": 50,
     "metadata": {},
     "output_type": "execute_result"
    }
   ],
   "source": [
    "LAGTec_by_date = pd.DataFrame(LAGTec.groupby(\"date_avr\").sum(numeric_only=True))\n",
    "LAGTec_by_date.reset_index(inplace=True)\n",
    "LAGTec_by_date"
   ],
   "metadata": {
    "collapsed": false,
    "ExecuteTime": {
     "end_time": "2023-10-23T22:06:58.504054Z",
     "start_time": "2023-10-23T22:06:58.480601Z"
    }
   }
  },
  {
   "cell_type": "code",
   "execution_count": 51,
   "outputs": [
    {
     "data": {
      "text/plain": "   date_avr  authors_N  wordcount  n_sentences  paul_N  paul_freq  \\\n0       0.5         13     151723        10108     160   0.001055   \n1       1.5         13     322401        41076      18   0.000056   \n2       2.5          4    1237867       129474     497   0.000401   \n3       3.5          9    1347705       117599     213   0.000158   \n4       4.5         10     507127        45061     184   0.000363   \n\n   sentences_paul_N  sentences_apostle_N  \n0               156                   84  \n1                18                   92  \n2               485                  654  \n3               205                  690  \n4               181                  146  ",
      "text/html": "<div>\n<style scoped>\n    .dataframe tbody tr th:only-of-type {\n        vertical-align: middle;\n    }\n\n    .dataframe tbody tr th {\n        vertical-align: top;\n    }\n\n    .dataframe thead th {\n        text-align: right;\n    }\n</style>\n<table border=\"1\" class=\"dataframe\">\n  <thead>\n    <tr style=\"text-align: right;\">\n      <th></th>\n      <th>date_avr</th>\n      <th>authors_N</th>\n      <th>wordcount</th>\n      <th>n_sentences</th>\n      <th>paul_N</th>\n      <th>paul_freq</th>\n      <th>sentences_paul_N</th>\n      <th>sentences_apostle_N</th>\n    </tr>\n  </thead>\n  <tbody>\n    <tr>\n      <th>0</th>\n      <td>0.5</td>\n      <td>13</td>\n      <td>151723</td>\n      <td>10108</td>\n      <td>160</td>\n      <td>0.001055</td>\n      <td>156</td>\n      <td>84</td>\n    </tr>\n    <tr>\n      <th>1</th>\n      <td>1.5</td>\n      <td>13</td>\n      <td>322401</td>\n      <td>41076</td>\n      <td>18</td>\n      <td>0.000056</td>\n      <td>18</td>\n      <td>92</td>\n    </tr>\n    <tr>\n      <th>2</th>\n      <td>2.5</td>\n      <td>4</td>\n      <td>1237867</td>\n      <td>129474</td>\n      <td>497</td>\n      <td>0.000401</td>\n      <td>485</td>\n      <td>654</td>\n    </tr>\n    <tr>\n      <th>3</th>\n      <td>3.5</td>\n      <td>9</td>\n      <td>1347705</td>\n      <td>117599</td>\n      <td>213</td>\n      <td>0.000158</td>\n      <td>205</td>\n      <td>690</td>\n    </tr>\n    <tr>\n      <th>4</th>\n      <td>4.5</td>\n      <td>10</td>\n      <td>507127</td>\n      <td>45061</td>\n      <td>184</td>\n      <td>0.000363</td>\n      <td>181</td>\n      <td>146</td>\n    </tr>\n  </tbody>\n</table>\n</div>"
     },
     "execution_count": 51,
     "metadata": {},
     "output_type": "execute_result"
    }
   ],
   "source": [
    "LAGTec_by_date[\"authors_N\"] = LAGTec_by_date[\"date_avr\"].apply(lambda x: len(LAGTec[LAGTec[\"date_avr\"]==x][\"author\"].unique()))\n",
    "\n",
    "LAGTec_by_date[\"works_N\"] = LAGTec_by_date[\"date_avr\"].apply(lambda x: (LAGTec[\"date_avr\"]==x).sum())\n",
    "\n",
    "LAGTec_by_date[\"paul_freq\"] = LAGTec_by_date[\"paul_N\"] / LAGTec_by_date[\"wordcount\"]\n",
    "\n",
    "LAGTec_by_date[[\"date_avr\", \"authors_N\", \"wordcount\", \"n_sentences\", \"paul_N\", \"paul_freq\", \"sentences_paul_N\", \"sentences_apostle_N\"]]\n"
   ],
   "metadata": {
    "collapsed": false,
    "pycharm": {
     "name": "#%%\n"
    },
    "ExecuteTime": {
     "end_time": "2023-10-23T22:07:11.278335Z",
     "start_time": "2023-10-23T22:07:11.244797Z"
    }
   }
  },
  {
   "cell_type": "code",
   "execution_count": 52,
   "outputs": [
    {
     "data": {
      "text/plain": "<Figure size 520x300 with 1 Axes>",
      "image/png": "[encoded data removed]"
     },
     "metadata": {},
     "output_type": "display_data"
    }
   ],
   "source": [
    "fig, ax = plt.subplots(figsize=[5.2,3], tight_layout=True)\n",
    "LAGTec_by_date.plot.bar(x=\"date_avr\", y=\"wordcount\", ax=ax, legend=False)\n",
    "xticklabels = [\"1CE\", \"2CE\", \"3CE\", \"4CE\", \"5CE\"]\n",
    "ax.set_xticklabels(xticklabels)\n",
    "ax.set_xlabel(\"century\")\n",
    "xticks=[n for n in range(200000, 1600000, 200000)]\n",
    "ax.set_yticks(xticks)\n",
    "xticklabels = [str(n) + \"K\" for n in range(200, 1600, 200)]\n",
    "ax.set_yticklabels(xticklabels)\n",
    "ax.set_ylabel(\"wordcount\")\n",
    "plt.show()"
   ],
   "metadata": {
    "collapsed": false,
    "pycharm": {
     "name": "#%%\n"
    },
    "ExecuteTime": {
     "end_time": "2023-10-23T22:07:35.058578Z",
     "start_time": "2023-10-23T22:07:34.892977Z"
    }
   }
  },
  {
   "cell_type": "code",
   "execution_count": 53,
   "outputs": [],
   "source": [
    "fig.savefig(\"../figures/LAGTec_wordcount_by_century\")"
   ],
   "metadata": {
    "collapsed": false,
    "pycharm": {
     "name": "#%%\n"
    },
    "ExecuteTime": {
     "end_time": "2023-10-23T22:08:07.288206Z",
     "start_time": "2023-10-23T22:08:07.237309Z"
    }
   }
  },
  {
   "cell_type": "code",
   "execution_count": 54,
   "outputs": [
    {
     "data": {
      "text/plain": "<Figure size 520x300 with 3 Axes>",
      "image/png": "[encoded data removed]"
     },
     "metadata": {},
     "output_type": "display_data"
    }
   ],
   "source": [
    "fig, [ax1, ax2, ax3] = plt.subplots(3,1, figsize=[5.2, 3], tight_layout=True)\n",
    "\n",
    "# ax1\n",
    "LAGTec_by_date.plot.bar(x=\"date_avr\", y=\"wordcount\", color=\"tab:blue\", ax=ax1, legend=False)\n",
    "ax1.set_xticks([])\n",
    "ax1.set_xlabel(\"\")\n",
    "\n",
    "yticks=[n for n in range(300000, 1500000, 300000)]\n",
    "ax1.set_yticks(yticks)\n",
    "yticklabels = [str(n) + \"K\" for n in range(300, 1500, 300)]\n",
    "ax1.set_yticklabels(yticklabels)\n",
    "ax1.set_ylabel(\"wordcount\")\n",
    "\n",
    "# ax2\n",
    "LAGTec_by_date.plot.bar(x=\"date_avr\", y=\"paul_N\", color=\"tab:green\", ax=ax2, legend=False)\n",
    "\n",
    "ax2.set_xticks([])\n",
    "ax2.set_xlabel(\"\")\n",
    "\n",
    "ax2.set_ylabel(\"Paul (N)\")\n",
    "\n",
    "# ax3\n",
    "LAGTec_by_date.plot.bar(x=\"date_avr\", y=\"paul_freq\", color=\"tab:red\", ax=ax3, legend=False)\n",
    "\n",
    "xticklabels = [\"1CE\", \"2CE\", \"3CE\", \"4CE\", \"5CE\"]\n",
    "ax3.set_xticklabels(xticklabels)\n",
    "ax3.set_xlabel(\"century\")\n",
    "\n",
    "ax3.set_ylabel(\"Paul (freq.)\")\n",
    "\n",
    "plt.show()"
   ],
   "metadata": {
    "collapsed": false,
    "pycharm": {
     "name": "#%%\n"
    },
    "ExecuteTime": {
     "end_time": "2023-10-23T22:08:14.598776Z",
     "start_time": "2023-10-23T22:08:14.490991Z"
    }
   }
  },
  {
   "cell_type": "code",
   "execution_count": 55,
   "outputs": [],
   "source": [
    "fig.savefig(\"../figures/LAGTec_wordcount+paul_by_century\")"
   ],
   "metadata": {
    "collapsed": false,
    "pycharm": {
     "name": "#%%\n"
    },
    "ExecuteTime": {
     "end_time": "2023-10-23T22:08:34.558120Z",
     "start_time": "2023-10-23T22:08:34.487403Z"
    }
   }
  },
  {
   "cell_type": "markdown",
   "source": [
    "# Overview by author"
   ],
   "metadata": {
    "collapsed": false,
    "pycharm": {
     "name": "#%% md\n"
    }
   }
  },
  {
   "cell_type": "code",
   "execution_count": 58,
   "outputs": [],
   "source": [
    "#LAGT_metadata = pd.read_csv(\"../data/LAGT_metadata.csv\")"
   ],
   "metadata": {
    "collapsed": false,
    "ExecuteTime": {
     "end_time": "2023-10-23T22:11:08.493350Z",
     "start_time": "2023-10-23T22:11:08.467124Z"
    }
   }
  },
  {
   "cell_type": "code",
   "execution_count": 65,
   "outputs": [
    {
     "data": {
      "text/plain": "{'tlg0031a': 'Gospel of Matthew',\n 'tlg0031b': 'Gospel of Mark',\n 'tlg0031luke': 'Luke-Acts',\n 'tlg0031john': 'Johnannine literature (New Testament)',\n 'tlg0031paul': 'Paul of Tarsus',\n 'tlg0031pspa': 'Pauline literature',\n 'tlg0031c': 'Hebrews (New Testament)',\n 'tlg0031d': 'James (New Testament)',\n 'tlg0031e': '1 Peter (New Testament)',\n 'tlg0031f': '2 Peter (New Testament)',\n 'tlg0031g': 'Jude (New Testament)',\n 'tlg0031h': 'Revelation (New Testament)',\n 'tlg0317': 'Acta Joannis (recensio)',\n 'tlg0555': 'Clement of Alexandria',\n 'tlg0563': 'Maximus of Tyre',\n 'tlg0645': 'Justin Martyr',\n 'tlg0646': 'Pseudo-Justin Martyr',\n 'tlg1205': 'Athenagoras',\n 'tlg1216': 'Barnabas',\n 'tlg1271': 'Clement of Rome',\n 'tlg1311': 'Didache',\n 'tlg1329': 'Dionysius of Corinth',\n 'tlg1419': 'The Shepherd of Hermas',\n 'tlg1443': 'Ignatius of Antioch',\n 'tlg1447': 'Irenaeus',\n 'tlg1484': 'Martyrdom of Polycarp',\n 'tlg1622': 'Polycarp',\n 'tlg1665': 'Seniores Apud Irenaeum',\n 'tlg1725': 'Theophilus of Antioch',\n 'tlg1766': 'Tatianus',\n 'tlg2016': 'The Passion of Saints Perpetua and Felicity',\n 'tlg2018': 'Eusebius',\n 'tlg2021': 'Epiphanius',\n 'tlg2022': 'Gregory of Nazianzus',\n 'tlg2032': 'Pappus Alexandrinus',\n 'tlg2035': 'Athanasius of Alexandria',\n 'tlg2040': 'Basil of Caesarea',\n 'tlg2042': 'Origen',\n 'tlg2048': 'Sozomen',\n 'tlg2057': 'Socrates of Constantinople',\n 'tlg2058': 'Philostorgius',\n 'tlg2115': 'Hippolytus of Rome',\n 'tlg2806': 'Mark the Deacon',\n 'tlg4003': 'Marcianus of Heraclea',\n 'tlg4075': 'Marinus',\n 'tlg4081': 'Colluthus',\n 'tlg4084': 'Zosimus',\n 'tlg4089': 'Theodoret',\n 'tlg4090': 'Cyril of Alexandria'}"
     },
     "execution_count": 65,
     "metadata": {},
     "output_type": "execute_result"
    }
   ],
   "source": [
    "df = LAGTec[(LAGTec[\"author_id\"]!=\"tlg0031paul\")]#  [\"sentences_paul_N\"].sum()\n",
    "\n",
    "df_authors = df.groupby(\"author_id\").sum(numeric_only=True)[[\"wordcount\", \"n_sentences\", \"paul_N\",\"sentences_paul_N\", \"sentences_apostle_N\"]].sort_values(\"sentences_paul_N\", ascending=False)#\n",
    "author_dict = dict(zip(LAGTec[\"author_id\"],  LAGTec[\"author\"]))\n",
    "author_dict"
   ],
   "metadata": {
    "collapsed": false,
    "pycharm": {
     "name": "#%%\n"
    },
    "ExecuteTime": {
     "end_time": "2023-10-23T22:13:58.900392Z",
     "start_time": "2023-10-23T22:13:58.886803Z"
    }
   }
  },
  {
   "cell_type": "code",
   "execution_count": 66,
   "outputs": [
    {
     "data": {
      "text/plain": "                                         author    author_id  wordcount  \\\n0                                        Origen      tlg2042     931431   \n1                                     Luke-Acts  tlg0031luke      37864   \n2                                    Epiphanius      tlg2021     325038   \n3                    Socrates of Constantinople      tlg2057     103901   \n4                                       Sozomen      tlg2048     112966   \n5                      Athanasius of Alexandria      tlg2035      94010   \n6                                     Theodoret      tlg4089     153333   \n7                             Basil of Caesarea      tlg2040     144429   \n8                         Clement of Alexandria      tlg0555     235754   \n9                                      Eusebius      tlg2018     620546   \n10                         Gregory of Nazianzus      tlg2022      77297   \n11                                     Irenaeus      tlg1447      24651   \n12                           Pauline literature  tlg0031pspa       8324   \n13                           Hippolytus of Rome      tlg2115      69987   \n14                                     Polycarp      tlg1622       1804   \n15                              Clement of Rome      tlg1271      13936   \n16                         Dionysius of Corinth      tlg1329        607   \n17                          Ignatius of Antioch      tlg1443       8396   \n18                              Mark the Deacon      tlg2806      24954   \n19                                Philostorgius      tlg2058      37002   \n20                       Seniores Apud Irenaeum      tlg1665        695   \n21                      2 Peter (New Testament)     tlg0031f       1095   \n22                                      Zosimus      tlg4084      62236   \n23                                    Colluthus      tlg4081       2336   \n24                          Pappus Alexandrinus      tlg2032      66896   \n25                                      Marinus      tlg4075       2905   \n26                        Marcianus of Heraclea      tlg4003      13973   \n27  The Passion of Saints Perpetua and Felicity      tlg2016        695   \n28                            Gospel of Matthew     tlg0031a      18288   \n29                        Martyrdom of Polycarp      tlg1484       2791   \n30                                     Tatianus      tlg1766      10189   \n31                        Theophilus of Antioch      tlg1725      21548   \n32                      Hebrews (New Testament)     tlg0031c       4971   \n33                        James (New Testament)     tlg0031d       1734   \n34                      1 Peter (New Testament)     tlg0031e       1669   \n35                         Jude (New Testament)     tlg0031g        456   \n36                   Revelation (New Testament)     tlg0031h       9857   \n37        Johnannine literature (New Testament)  tlg0031john      18189   \n38                      Acta Joannis (recensio)      tlg0317       2488   \n39                              Maximus of Tyre      tlg0563     118960   \n40                                Justin Martyr      tlg0645      73449   \n41                         Pseudo-Justin Martyr      tlg0646       2725   \n42                                  Athenagoras      tlg1205      20210   \n43                                     Barnabas      tlg1216       7440   \n44                                      Didache      tlg1311       2377   \n45                       The Shepherd of Hermas      tlg1419      30282   \n46                               Gospel of Mark     tlg0031b      11274   \n47                          Cyril of Alexandria      tlg4090       6799   \n\n    n_sentences  paul_N  sentences_paul_N  sentences_apostle_N  \\\n0        110127     471               459                  534   \n1          2234     128               125                   32   \n2         33079     108               102                  357   \n3          8743      77                76                   64   \n4          7150      63                63                   30   \n5         10789      49                49                   90   \n6         16094      42                40                   36   \n7         11257      25                23                   36   \n8         14753      18                18                  103   \n9         35220      17                17                  199   \n10        20005      14                14                    2   \n11         4525      12                12                   17   \n12          390      10                10                   10   \n13         4394       7                 7                   15   \n14          212       2                 2                    2   \n15         1410       2                 2                    7   \n16           67       2                 2                    2   \n17          790       2                 2                   14   \n18         2132       1                 1                    6   \n19         4172       1                 1                   10   \n20          200       1                 1                    2   \n21           42       1                 1                    2   \n22         2265       0                 0                    0   \n23          209       0                 0                    0   \n24         5843       0                 0                    0   \n25          282       0                 0                    0   \n26          949       0                 0                    0   \n27          355       0                 0                    0   \n28         1276       0                 0                    1   \n29          217       0                 0                    1   \n30          648       0                 0                    0   \n31         1300       0                 0                    0   \n32          262       0                 0                    1   \n33          140       0                 0                    0   \n34           98       0                 0                    1   \n35           20       0                 0                    1   \n36          475       0                 0                    3   \n37         1339       0                 0                    1   \n38          181       0                 0                   14   \n39        22598       0                 0                    0   \n40         5829       0                 0                   33   \n41          240       0                 0                    5   \n42          808       0                 0                    1   \n43          875       0                 0                    1   \n44          284       0                 0                    3   \n45         2959       0                 0                    5   \n46          790       0                 0                    2   \n47         3659       0                 0                    0   \n\n                                                works  works_N  date_avr  \\\n0   [Contra Celsum, Commentarii in Evangelium Joan...       44       2.5   \n1                              [Gospel of Luke, Acts]        2       0.5   \n2   [Ancoratus, Panarion (Adversus haereses), Anac...        3       3.5   \n3                            [Historia Ecclesiastica]        1       4.5   \n4                            [Historia Ecclesiastica]        1       4.5   \n5   [De decretis Nicaenae synodi (Chapters 41 and ...        5       3.5   \n6       [Historia ecclesiastica , Historia Religiosa]        2       4.5   \n7   [To Young Men, On How They Might Dervice Profi...        2       3.5   \n8   [Protrepticus, Paedagogus, Stromata (Books I-V...        7       2.5   \n9   [Praeperatio Evangelica, Historia ecclesiastic...       10       3.5   \n10  [Christus patiens [Dub.] (fort. auctore Consta...        7       3.5   \n11                 [Libros quinque adversus haereses]        1       1.5   \n12  [Ephesians, Colossians, 2 Thessalonians, 1 Tim...        6       0.5   \n13                       [Refutatio Omnium Haeresium]        1       2.5   \n14                         [Epistula ad Philippenses]        1       1.5   \n15  [Epistula I ad Corinthios, Epistula II ad Cori...        2       0.5   \n16                                        [Fragmenta]        1       1.5   \n17  [Ad Ephesios (epist. 1), Ad Magnesios (epist. ...        7       1.5   \n18                 [Vita Porphyrii episcopi Gazensis]        1       4.5   \n19   [Historia ecclesiastica (fragmenta ap. Photium)]        1       4.5   \n20                     [Reliquiae plurium anonymorum]        1       2.5   \n21                                          [2 Peter]        1       0.5   \n22                                    [Historia Nova]        1       4.5   \n23                                    [Rape of Helen]        1       4.5   \n24                                         [Synagoge]        1       3.5   \n25                    [Commentarium in Euclidis data]        1       4.5   \n26  [Periplus Maris Exteri, Menippi periplus maris...        3       3.5   \n27      [The Passion of Saints Perpetua and Felicity]        1       4.5   \n28                                [Gospel of Matthew]        1       0.5   \n29                            [Martyrdom of Polycarp]        1       3.5   \n30                                [Oratio ad Graecos]        1       1.5   \n31                                     [Ad Autolycum]        1       1.5   \n32                                          [Hebrews]        1       0.5   \n33                                            [James]        1       0.5   \n34                                          [1 Peter]        1       0.5   \n35                                             [Jude]        1       0.5   \n36                                       [Revelation]        1       0.5   \n37           [Gospel of John, 1 John, 2 John, 3 John]        4       0.5   \n38            [Acta Joannis, Acta Joannis (recensio)]        2       1.5   \n39                                        [Dialexeis]        1       1.5   \n40      [Apologia, Apology II, Dialogus cum Tryphone]        3       1.5   \n41                            [Epistula ad Diognetum]        1       3.5   \n42   [Supplication pro Christianis, De resurrectione]        2       1.5   \n43                          [The Epistle of Barnabas]        1       1.5   \n44                                          [Didache]        1       1.5   \n45                           [The Shepherd of Hermas]        1       1.5   \n46                                   [Gospel of Mark]        1       0.5   \n47                        [Index In In XII Prophetas]        1       4.5   \n\n    paul_proportion  \n0          0.004168  \n1          0.055953  \n2          0.003084  \n3          0.008693  \n4          0.008811  \n5          0.004542  \n6          0.002485  \n7          0.002043  \n8          0.001220  \n9          0.000483  \n10         0.000700  \n11         0.002652  \n12         0.025641  \n13         0.001593  \n14         0.009434  \n15         0.001418  \n16         0.029851  \n17         0.002532  \n18         0.000469  \n19         0.000240  \n20         0.005000  \n21         0.023810  \n22         0.000000  \n23         0.000000  \n24         0.000000  \n25         0.000000  \n26         0.000000  \n27         0.000000  \n28         0.000000  \n29         0.000000  \n30         0.000000  \n31         0.000000  \n32         0.000000  \n33         0.000000  \n34         0.000000  \n35         0.000000  \n36         0.000000  \n37         0.000000  \n38         0.000000  \n39         0.000000  \n40         0.000000  \n41         0.000000  \n42         0.000000  \n43         0.000000  \n44         0.000000  \n45         0.000000  \n46         0.000000  \n47         0.000000  ",
      "text/html": "<div>\n<style scoped>\n    .dataframe tbody tr th:only-of-type {\n        vertical-align: middle;\n    }\n\n    .dataframe tbody tr th {\n        vertical-align: top;\n    }\n\n    .dataframe thead th {\n        text-align: right;\n    }\n</style>\n<table border=\"1\" class=\"dataframe\">\n  <thead>\n    <tr style=\"text-align: right;\">\n      <th></th>\n      <th>author</th>\n      <th>author_id</th>\n      <th>wordcount</th>\n      <th>n_sentences</th>\n      <th>paul_N</th>\n      <th>sentences_paul_N</th>\n      <th>sentences_apostle_N</th>\n      <th>works</th>\n      <th>works_N</th>\n      <th>date_avr</th>\n      <th>paul_proportion</th>\n    </tr>\n  </thead>\n  <tbody>\n    <tr>\n      <th>0</th>\n      <td>Origen</td>\n      <td>tlg2042</td>\n      <td>931431</td>\n      <td>110127</td>\n      <td>471</td>\n      <td>459</td>\n      <td>534</td>\n      <td>[Contra Celsum, Commentarii in Evangelium Joan...</td>\n      <td>44</td>\n      <td>2.5</td>\n      <td>0.004168</td>\n    </tr>\n    <tr>\n      <th>1</th>\n      <td>Luke-Acts</td>\n      <td>tlg0031luke</td>\n      <td>37864</td>\n      <td>2234</td>\n      <td>128</td>\n      <td>125</td>\n      <td>32</td>\n      <td>[Gospel of Luke, Acts]</td>\n      <td>2</td>\n      <td>0.5</td>\n      <td>0.055953</td>\n    </tr>\n    <tr>\n      <th>2</th>\n      <td>Epiphanius</td>\n      <td>tlg2021</td>\n      <td>325038</td>\n      <td>33079</td>\n      <td>108</td>\n      <td>102</td>\n      <td>357</td>\n      <td>[Ancoratus, Panarion (Adversus haereses), Anac...</td>\n      <td>3</td>\n      <td>3.5</td>\n      <td>0.003084</td>\n    </tr>\n    <tr>\n      <th>3</th>\n      <td>Socrates of Constantinople</td>\n      <td>tlg2057</td>\n      <td>103901</td>\n      <td>8743</td>\n      <td>77</td>\n      <td>76</td>\n      <td>64</td>\n      <td>[Historia Ecclesiastica]</td>\n      <td>1</td>\n      <td>4.5</td>\n      <td>0.008693</td>\n    </tr>\n    <tr>\n      <th>4</th>\n      <td>Sozomen</td>\n      <td>tlg2048</td>\n      <td>112966</td>\n      <td>7150</td>\n      <td>63</td>\n      <td>63</td>\n      <td>30</td>\n      <td>[Historia Ecclesiastica]</td>\n      <td>1</td>\n      <td>4.5</td>\n      <td>0.008811</td>\n    </tr>\n    <tr>\n      <th>5</th>\n      <td>Athanasius of Alexandria</td>\n      <td>tlg2035</td>\n      <td>94010</td>\n      <td>10789</td>\n      <td>49</td>\n      <td>49</td>\n      <td>90</td>\n      <td>[De decretis Nicaenae synodi (Chapters 41 and ...</td>\n      <td>5</td>\n      <td>3.5</td>\n      <td>0.004542</td>\n    </tr>\n    <tr>\n      <th>6</th>\n      <td>Theodoret</td>\n      <td>tlg4089</td>\n      <td>153333</td>\n      <td>16094</td>\n      <td>42</td>\n      <td>40</td>\n      <td>36</td>\n      <td>[Historia ecclesiastica , Historia Religiosa]</td>\n      <td>2</td>\n      <td>4.5</td>\n      <td>0.002485</td>\n    </tr>\n    <tr>\n      <th>7</th>\n      <td>Basil of Caesarea</td>\n      <td>tlg2040</td>\n      <td>144429</td>\n      <td>11257</td>\n      <td>25</td>\n      <td>23</td>\n      <td>36</td>\n      <td>[To Young Men, On How They Might Dervice Profi...</td>\n      <td>2</td>\n      <td>3.5</td>\n      <td>0.002043</td>\n    </tr>\n    <tr>\n      <th>8</th>\n      <td>Clement of Alexandria</td>\n      <td>tlg0555</td>\n      <td>235754</td>\n      <td>14753</td>\n      <td>18</td>\n      <td>18</td>\n      <td>103</td>\n      <td>[Protrepticus, Paedagogus, Stromata (Books I-V...</td>\n      <td>7</td>\n      <td>2.5</td>\n      <td>0.001220</td>\n    </tr>\n    <tr>\n      <th>9</th>\n      <td>Eusebius</td>\n      <td>tlg2018</td>\n      <td>620546</td>\n      <td>35220</td>\n      <td>17</td>\n      <td>17</td>\n      <td>199</td>\n      <td>[Praeperatio Evangelica, Historia ecclesiastic...</td>\n      <td>10</td>\n      <td>3.5</td>\n      <td>0.000483</td>\n    </tr>\n    <tr>\n      <th>10</th>\n      <td>Gregory of Nazianzus</td>\n      <td>tlg2022</td>\n      <td>77297</td>\n      <td>20005</td>\n      <td>14</td>\n      <td>14</td>\n      <td>2</td>\n      <td>[Christus patiens [Dub.] (fort. auctore Consta...</td>\n      <td>7</td>\n      <td>3.5</td>\n      <td>0.000700</td>\n    </tr>\n    <tr>\n      <th>11</th>\n      <td>Irenaeus</td>\n      <td>tlg1447</td>\n      <td>24651</td>\n      <td>4525</td>\n      <td>12</td>\n      <td>12</td>\n      <td>17</td>\n      <td>[Libros quinque adversus haereses]</td>\n      <td>1</td>\n      <td>1.5</td>\n      <td>0.002652</td>\n    </tr>\n    <tr>\n      <th>12</th>\n      <td>Pauline literature</td>\n      <td>tlg0031pspa</td>\n      <td>8324</td>\n      <td>390</td>\n      <td>10</td>\n      <td>10</td>\n      <td>10</td>\n      <td>[Ephesians, Colossians, 2 Thessalonians, 1 Tim...</td>\n      <td>6</td>\n      <td>0.5</td>\n      <td>0.025641</td>\n    </tr>\n    <tr>\n      <th>13</th>\n      <td>Hippolytus of Rome</td>\n      <td>tlg2115</td>\n      <td>69987</td>\n      <td>4394</td>\n      <td>7</td>\n      <td>7</td>\n      <td>15</td>\n      <td>[Refutatio Omnium Haeresium]</td>\n      <td>1</td>\n      <td>2.5</td>\n      <td>0.001593</td>\n    </tr>\n    <tr>\n      <th>14</th>\n      <td>Polycarp</td>\n      <td>tlg1622</td>\n      <td>1804</td>\n      <td>212</td>\n      <td>2</td>\n      <td>2</td>\n      <td>2</td>\n      <td>[Epistula ad Philippenses]</td>\n      <td>1</td>\n      <td>1.5</td>\n      <td>0.009434</td>\n    </tr>\n    <tr>\n      <th>15</th>\n      <td>Clement of Rome</td>\n      <td>tlg1271</td>\n      <td>13936</td>\n      <td>1410</td>\n      <td>2</td>\n      <td>2</td>\n      <td>7</td>\n      <td>[Epistula I ad Corinthios, Epistula II ad Cori...</td>\n      <td>2</td>\n      <td>0.5</td>\n      <td>0.001418</td>\n    </tr>\n    <tr>\n      <th>16</th>\n      <td>Dionysius of Corinth</td>\n      <td>tlg1329</td>\n      <td>607</td>\n      <td>67</td>\n      <td>2</td>\n      <td>2</td>\n      <td>2</td>\n      <td>[Fragmenta]</td>\n      <td>1</td>\n      <td>1.5</td>\n      <td>0.029851</td>\n    </tr>\n    <tr>\n      <th>17</th>\n      <td>Ignatius of Antioch</td>\n      <td>tlg1443</td>\n      <td>8396</td>\n      <td>790</td>\n      <td>2</td>\n      <td>2</td>\n      <td>14</td>\n      <td>[Ad Ephesios (epist. 1), Ad Magnesios (epist. ...</td>\n      <td>7</td>\n      <td>1.5</td>\n      <td>0.002532</td>\n    </tr>\n    <tr>\n      <th>18</th>\n      <td>Mark the Deacon</td>\n      <td>tlg2806</td>\n      <td>24954</td>\n      <td>2132</td>\n      <td>1</td>\n      <td>1</td>\n      <td>6</td>\n      <td>[Vita Porphyrii episcopi Gazensis]</td>\n      <td>1</td>\n      <td>4.5</td>\n      <td>0.000469</td>\n    </tr>\n    <tr>\n      <th>19</th>\n      <td>Philostorgius</td>\n      <td>tlg2058</td>\n      <td>37002</td>\n      <td>4172</td>\n      <td>1</td>\n      <td>1</td>\n      <td>10</td>\n      <td>[Historia ecclesiastica (fragmenta ap. Photium)]</td>\n      <td>1</td>\n      <td>4.5</td>\n      <td>0.000240</td>\n    </tr>\n    <tr>\n      <th>20</th>\n      <td>Seniores Apud Irenaeum</td>\n      <td>tlg1665</td>\n      <td>695</td>\n      <td>200</td>\n      <td>1</td>\n      <td>1</td>\n      <td>2</td>\n      <td>[Reliquiae plurium anonymorum]</td>\n      <td>1</td>\n      <td>2.5</td>\n      <td>0.005000</td>\n    </tr>\n    <tr>\n      <th>21</th>\n      <td>2 Peter (New Testament)</td>\n      <td>tlg0031f</td>\n      <td>1095</td>\n      <td>42</td>\n      <td>1</td>\n      <td>1</td>\n      <td>2</td>\n      <td>[2 Peter]</td>\n      <td>1</td>\n      <td>0.5</td>\n      <td>0.023810</td>\n    </tr>\n    <tr>\n      <th>22</th>\n      <td>Zosimus</td>\n      <td>tlg4084</td>\n      <td>62236</td>\n      <td>2265</td>\n      <td>0</td>\n      <td>0</td>\n      <td>0</td>\n      <td>[Historia Nova]</td>\n      <td>1</td>\n      <td>4.5</td>\n      <td>0.000000</td>\n    </tr>\n    <tr>\n      <th>23</th>\n      <td>Colluthus</td>\n      <td>tlg4081</td>\n      <td>2336</td>\n      <td>209</td>\n      <td>0</td>\n      <td>0</td>\n      <td>0</td>\n      <td>[Rape of Helen]</td>\n      <td>1</td>\n      <td>4.5</td>\n      <td>0.000000</td>\n    </tr>\n    <tr>\n      <th>24</th>\n      <td>Pappus Alexandrinus</td>\n      <td>tlg2032</td>\n      <td>66896</td>\n      <td>5843</td>\n      <td>0</td>\n      <td>0</td>\n      <td>0</td>\n      <td>[Synagoge]</td>\n      <td>1</td>\n      <td>3.5</td>\n      <td>0.000000</td>\n    </tr>\n    <tr>\n      <th>25</th>\n      <td>Marinus</td>\n      <td>tlg4075</td>\n      <td>2905</td>\n      <td>282</td>\n      <td>0</td>\n      <td>0</td>\n      <td>0</td>\n      <td>[Commentarium in Euclidis data]</td>\n      <td>1</td>\n      <td>4.5</td>\n      <td>0.000000</td>\n    </tr>\n    <tr>\n      <th>26</th>\n      <td>Marcianus of Heraclea</td>\n      <td>tlg4003</td>\n      <td>13973</td>\n      <td>949</td>\n      <td>0</td>\n      <td>0</td>\n      <td>0</td>\n      <td>[Periplus Maris Exteri, Menippi periplus maris...</td>\n      <td>3</td>\n      <td>3.5</td>\n      <td>0.000000</td>\n    </tr>\n    <tr>\n      <th>27</th>\n      <td>The Passion of Saints Perpetua and Felicity</td>\n      <td>tlg2016</td>\n      <td>695</td>\n      <td>355</td>\n      <td>0</td>\n      <td>0</td>\n      <td>0</td>\n      <td>[The Passion of Saints Perpetua and Felicity]</td>\n      <td>1</td>\n      <td>4.5</td>\n      <td>0.000000</td>\n    </tr>\n    <tr>\n      <th>28</th>\n      <td>Gospel of Matthew</td>\n      <td>tlg0031a</td>\n      <td>18288</td>\n      <td>1276</td>\n      <td>0</td>\n      <td>0</td>\n      <td>1</td>\n      <td>[Gospel of Matthew]</td>\n      <td>1</td>\n      <td>0.5</td>\n      <td>0.000000</td>\n    </tr>\n    <tr>\n      <th>29</th>\n      <td>Martyrdom of Polycarp</td>\n      <td>tlg1484</td>\n      <td>2791</td>\n      <td>217</td>\n      <td>0</td>\n      <td>0</td>\n      <td>1</td>\n      <td>[Martyrdom of Polycarp]</td>\n      <td>1</td>\n      <td>3.5</td>\n      <td>0.000000</td>\n    </tr>\n    <tr>\n      <th>30</th>\n      <td>Tatianus</td>\n      <td>tlg1766</td>\n      <td>10189</td>\n      <td>648</td>\n      <td>0</td>\n      <td>0</td>\n      <td>0</td>\n      <td>[Oratio ad Graecos]</td>\n      <td>1</td>\n      <td>1.5</td>\n      <td>0.000000</td>\n    </tr>\n    <tr>\n      <th>31</th>\n      <td>Theophilus of Antioch</td>\n      <td>tlg1725</td>\n      <td>21548</td>\n      <td>1300</td>\n      <td>0</td>\n      <td>0</td>\n      <td>0</td>\n      <td>[Ad Autolycum]</td>\n      <td>1</td>\n      <td>1.5</td>\n      <td>0.000000</td>\n    </tr>\n    <tr>\n      <th>32</th>\n      <td>Hebrews (New Testament)</td>\n      <td>tlg0031c</td>\n      <td>4971</td>\n      <td>262</td>\n      <td>0</td>\n      <td>0</td>\n      <td>1</td>\n      <td>[Hebrews]</td>\n      <td>1</td>\n      <td>0.5</td>\n      <td>0.000000</td>\n    </tr>\n    <tr>\n      <th>33</th>\n      <td>James (New Testament)</td>\n      <td>tlg0031d</td>\n      <td>1734</td>\n      <td>140</td>\n      <td>0</td>\n      <td>0</td>\n      <td>0</td>\n      <td>[James]</td>\n      <td>1</td>\n      <td>0.5</td>\n      <td>0.000000</td>\n    </tr>\n    <tr>\n      <th>34</th>\n      <td>1 Peter (New Testament)</td>\n      <td>tlg0031e</td>\n      <td>1669</td>\n      <td>98</td>\n      <td>0</td>\n      <td>0</td>\n      <td>1</td>\n      <td>[1 Peter]</td>\n      <td>1</td>\n      <td>0.5</td>\n      <td>0.000000</td>\n    </tr>\n    <tr>\n      <th>35</th>\n      <td>Jude (New Testament)</td>\n      <td>tlg0031g</td>\n      <td>456</td>\n      <td>20</td>\n      <td>0</td>\n      <td>0</td>\n      <td>1</td>\n      <td>[Jude]</td>\n      <td>1</td>\n      <td>0.5</td>\n      <td>0.000000</td>\n    </tr>\n    <tr>\n      <th>36</th>\n      <td>Revelation (New Testament)</td>\n      <td>tlg0031h</td>\n      <td>9857</td>\n      <td>475</td>\n      <td>0</td>\n      <td>0</td>\n      <td>3</td>\n      <td>[Revelation]</td>\n      <td>1</td>\n      <td>0.5</td>\n      <td>0.000000</td>\n    </tr>\n    <tr>\n      <th>37</th>\n      <td>Johnannine literature (New Testament)</td>\n      <td>tlg0031john</td>\n      <td>18189</td>\n      <td>1339</td>\n      <td>0</td>\n      <td>0</td>\n      <td>1</td>\n      <td>[Gospel of John, 1 John, 2 John, 3 John]</td>\n      <td>4</td>\n      <td>0.5</td>\n      <td>0.000000</td>\n    </tr>\n    <tr>\n      <th>38</th>\n      <td>Acta Joannis (recensio)</td>\n      <td>tlg0317</td>\n      <td>2488</td>\n      <td>181</td>\n      <td>0</td>\n      <td>0</td>\n      <td>14</td>\n      <td>[Acta Joannis, Acta Joannis (recensio)]</td>\n      <td>2</td>\n      <td>1.5</td>\n      <td>0.000000</td>\n    </tr>\n    <tr>\n      <th>39</th>\n      <td>Maximus of Tyre</td>\n      <td>tlg0563</td>\n      <td>118960</td>\n      <td>22598</td>\n      <td>0</td>\n      <td>0</td>\n      <td>0</td>\n      <td>[Dialexeis]</td>\n      <td>1</td>\n      <td>1.5</td>\n      <td>0.000000</td>\n    </tr>\n    <tr>\n      <th>40</th>\n      <td>Justin Martyr</td>\n      <td>tlg0645</td>\n      <td>73449</td>\n      <td>5829</td>\n      <td>0</td>\n      <td>0</td>\n      <td>33</td>\n      <td>[Apologia, Apology II, Dialogus cum Tryphone]</td>\n      <td>3</td>\n      <td>1.5</td>\n      <td>0.000000</td>\n    </tr>\n    <tr>\n      <th>41</th>\n      <td>Pseudo-Justin Martyr</td>\n      <td>tlg0646</td>\n      <td>2725</td>\n      <td>240</td>\n      <td>0</td>\n      <td>0</td>\n      <td>5</td>\n      <td>[Epistula ad Diognetum]</td>\n      <td>1</td>\n      <td>3.5</td>\n      <td>0.000000</td>\n    </tr>\n    <tr>\n      <th>42</th>\n      <td>Athenagoras</td>\n      <td>tlg1205</td>\n      <td>20210</td>\n      <td>808</td>\n      <td>0</td>\n      <td>0</td>\n      <td>1</td>\n      <td>[Supplication pro Christianis, De resurrectione]</td>\n      <td>2</td>\n      <td>1.5</td>\n      <td>0.000000</td>\n    </tr>\n    <tr>\n      <th>43</th>\n      <td>Barnabas</td>\n      <td>tlg1216</td>\n      <td>7440</td>\n      <td>875</td>\n      <td>0</td>\n      <td>0</td>\n      <td>1</td>\n      <td>[The Epistle of Barnabas]</td>\n      <td>1</td>\n      <td>1.5</td>\n      <td>0.000000</td>\n    </tr>\n    <tr>\n      <th>44</th>\n      <td>Didache</td>\n      <td>tlg1311</td>\n      <td>2377</td>\n      <td>284</td>\n      <td>0</td>\n      <td>0</td>\n      <td>3</td>\n      <td>[Didache]</td>\n      <td>1</td>\n      <td>1.5</td>\n      <td>0.000000</td>\n    </tr>\n    <tr>\n      <th>45</th>\n      <td>The Shepherd of Hermas</td>\n      <td>tlg1419</td>\n      <td>30282</td>\n      <td>2959</td>\n      <td>0</td>\n      <td>0</td>\n      <td>5</td>\n      <td>[The Shepherd of Hermas]</td>\n      <td>1</td>\n      <td>1.5</td>\n      <td>0.000000</td>\n    </tr>\n    <tr>\n      <th>46</th>\n      <td>Gospel of Mark</td>\n      <td>tlg0031b</td>\n      <td>11274</td>\n      <td>790</td>\n      <td>0</td>\n      <td>0</td>\n      <td>2</td>\n      <td>[Gospel of Mark]</td>\n      <td>1</td>\n      <td>0.5</td>\n      <td>0.000000</td>\n    </tr>\n    <tr>\n      <th>47</th>\n      <td>Cyril of Alexandria</td>\n      <td>tlg4090</td>\n      <td>6799</td>\n      <td>3659</td>\n      <td>0</td>\n      <td>0</td>\n      <td>0</td>\n      <td>[Index In In XII Prophetas]</td>\n      <td>1</td>\n      <td>4.5</td>\n      <td>0.000000</td>\n    </tr>\n  </tbody>\n</table>\n</div>"
     },
     "execution_count": 66,
     "metadata": {},
     "output_type": "execute_result"
    }
   ],
   "source": [
    "def get_author(x):\n",
    "    try:\n",
    "        return author_dict[x]\n",
    "    except:\n",
    "        return None\n",
    "\n",
    "date_dict = dict(zip(LAGTec[\"author_id\"],  LAGTec[\"date_avr\"]))\n",
    "\n",
    "def get_list_of_works(author_id):\n",
    "    works = LAGT[LAGT[\"author_id\"]==author_id][\"title\"].tolist()\n",
    "    return works\n",
    "\n",
    "\n",
    "df_authors.reset_index(inplace=True)\n",
    "df_authors[\"author\"] = df_authors[\"author_id\"].apply(get_author)\n",
    "df_authors[\"works\"] = df_authors[\"author_id\"].apply(get_list_of_works)\n",
    "df_authors[\"works_N\"] = df_authors[\"works\"].apply(len)\n",
    "df_authors[\"date_avr\"] = df_authors[\"author_id\"].apply(lambda x: date_dict[x])\n",
    "df_authors.set_index(\"author\", inplace=True)\n",
    "df_authors.reset_index(inplace=True)\n",
    "\n",
    "df_authors[\"paul_proportion\"] = df_authors[\"sentences_paul_N\"] / df_authors[\"n_sentences\"]\n",
    "df_authors"
   ],
   "metadata": {
    "collapsed": false,
    "ExecuteTime": {
     "end_time": "2023-10-23T22:14:17.004124Z",
     "start_time": "2023-10-23T22:14:16.988295Z"
    }
   }
  },
  {
   "cell_type": "code",
   "execution_count": 67,
   "outputs": [
    {
     "data": {
      "text/plain": "656"
     },
     "execution_count": 67,
     "metadata": {},
     "output_type": "execute_result"
    }
   ],
   "source": [
    "df_authors[df_authors[\"date_avr\"]<3][\"paul_N\"].sum()"
   ],
   "metadata": {
    "collapsed": false,
    "pycharm": {
     "name": "#%%\n"
    },
    "ExecuteTime": {
     "end_time": "2023-10-23T22:14:31.149389Z",
     "start_time": "2023-10-23T22:14:31.133661Z"
    }
   }
  },
  {
   "cell_type": "code",
   "execution_count": 68,
   "outputs": [
    {
     "data": {
      "text/plain": "397"
     },
     "execution_count": 68,
     "metadata": {},
     "output_type": "execute_result"
    }
   ],
   "source": [
    "df_authors[df_authors[\"date_avr\"] > 3][\"paul_N\"].sum()"
   ],
   "metadata": {
    "collapsed": false,
    "pycharm": {
     "name": "#%%\n"
    },
    "ExecuteTime": {
     "end_time": "2023-10-23T22:14:31.565121Z",
     "start_time": "2023-10-23T22:14:31.554578Z"
    }
   }
  },
  {
   "cell_type": "code",
   "execution_count": 69,
   "outputs": [
    {
     "data": {
      "text/plain": "Index(['author', 'author_id', 'wordcount', 'n_sentences', 'paul_N',\n       'sentences_paul_N', 'sentences_apostle_N', 'works', 'works_N',\n       'date_avr', 'paul_proportion'],\n      dtype='object')"
     },
     "execution_count": 69,
     "metadata": {},
     "output_type": "execute_result"
    }
   ],
   "source": [
    "df_authors.columns"
   ],
   "metadata": {
    "collapsed": false,
    "pycharm": {
     "name": "#%%\n"
    },
    "ExecuteTime": {
     "end_time": "2023-10-23T22:14:33.177498Z",
     "start_time": "2023-10-23T22:14:33.163854Z"
    }
   }
  },
  {
   "cell_type": "code",
   "execution_count": 70,
   "outputs": [],
   "source": [
    "columns = ['author', 'author_id', 'works_N', 'works', 'wordcount', 'n_sentences',\n",
    "        'date_avr','paul_N', 'sentences_apostle_N', 'sentences_paul_N', 'paul_proportion']"
   ],
   "metadata": {
    "collapsed": false,
    "pycharm": {
     "name": "#%%\n"
    },
    "ExecuteTime": {
     "end_time": "2023-10-23T22:14:35.998187Z",
     "start_time": "2023-10-23T22:14:35.988446Z"
    }
   }
  },
  {
   "cell_type": "code",
   "execution_count": 71,
   "outputs": [],
   "source": [
    "# save for future usage\n",
    "LAGTec.to_json(\"../data/large_files/LAGTec.json\")"
   ],
   "metadata": {
    "collapsed": false,
    "pycharm": {
     "name": "#%%\n"
    },
    "ExecuteTime": {
     "end_time": "2023-10-23T22:14:46.020494Z",
     "start_time": "2023-10-23T22:14:45.940486Z"
    }
   }
  },
  {
   "cell_type": "code",
   "execution_count": null,
   "outputs": [],
   "source": [],
   "metadata": {
    "collapsed": false,
    "pycharm": {
     "name": "#%%\n"
    }
   }
  }
 ],
 "metadata": {
  "kernelspec": {
   "name": "lagt_kernel",
   "language": "python",
   "display_name": "lagt_kernel"
  },
  "language_info": {
   "codemirror_mode": {
    "name": "ipython",
    "version": 3
   },
   "file_extension": ".py",
   "mimetype": "text/x-python",
   "name": "python",
   "nbconvert_exporter": "python",
   "pygments_lexer": "ipython3",
   "version": "3.9.7"
  }
 },
 "nbformat": 4,
 "nbformat_minor": 4
}
